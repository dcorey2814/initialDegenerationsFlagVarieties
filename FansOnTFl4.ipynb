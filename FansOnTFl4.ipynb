{
 "cells": [
  {
   "cell_type": "markdown",
   "metadata": {},
   "source": [
    "## Fan structures on $\\operatorname{TF\\ell}_4^{\\circ}$\n",
    "\n",
    "In this OSCAR jupyter notebook, we study two fan structures on $\\operatorname{TF\\ell}_4^{\\circ}$. The first one is the secondary fan $\\mathcal{F}_4$ whose cones parameterize the regular matroidal subdivisions of the 3-dimensional permutahedron $\\Pi_4$. The second one $\\mathcal{F}_4'$ is a coarsening of $\\mathcal{F}_4$. "
   ]
  },
  {
   "cell_type": "code",
   "execution_count": 1,
   "metadata": {},
   "outputs": [
    {
     "name": "stdout",
     "output_type": "stream",
     "text": [
      " -----    -----    -----      -      -----   \n",
      "|     |  |     |  |     |    | |    |     |  \n",
      "|     |  |        |         |   |   |     |  \n",
      "|     |   -----   |        |     |  |-----   \n",
      "|     |        |  |        |-----|  |   |    \n",
      "|     |  |     |  |     |  |     |  |    |   \n",
      " -----    -----    -----   -     -  -     -  \n",
      "\n",
      "...combining (and extending) ANTIC, GAP, Polymake and Singular\n",
      "Version\u001b[32m 0.10.1 \u001b[39m... \n",
      " ... which comes with absolutely no warranty whatsoever\n",
      "Type: '?Oscar' for more information\n",
      "(c) 2019-2022 by The Oscar Development Team\n"
     ]
    },
    {
     "data": {
      "text/plain": [
       "Polymake"
      ]
     },
     "execution_count": 1,
     "metadata": {},
     "output_type": "execute_result"
    }
   ],
   "source": [
    "using Oscar\n",
    "using Combinatorics\n",
    "using IterTools\n",
    "pm = Polymake"
   ]
  },
  {
   "cell_type": "markdown",
   "metadata": {},
   "source": [
    "The space $\\operatorname{TF\\ell}_4^{\\circ}$ lies in $\\mathbb{R}^{14} \\cong \\wedge^1 \\mathbb{R}^4 \\times \\wedge^2 \\mathbb{R}^4 \\times \\wedge^3 \\mathbb{R}^4$. The coordinates $\\mathsf{e}_{\\lambda}$ of $\\mathbb{R}^{14}$ are labeled by the proper nonempty subsets $\\lambda$ of $[4]$, and we order them by\n",
    "\n",
    "\\begin{equation}\n",
    "    \\mathsf{e}_1, \\mathsf{e}_2, \\mathsf{e}_3, \\mathsf{e}_4, \\mathsf{e}_{12}, \\mathsf{e}_{13}, \\mathsf{e}_{14}, \\mathsf{e}_{23}, \\mathsf{e}_{24}, \\mathsf{e}_{34}, \\mathsf{e}_{123}, \\mathsf{e}_{124}, \\mathsf{e}_{134}, \\mathsf{e}_{234}.\n",
    "\\end{equation}\n",
    "\n",
    "These are recorded in the dictionary ```e```. Its keys are strings ```\"i\"```, ```\"ij\"```, ```\"ijk\"``` and the value is a $1\\times 14$ ```Matrix{Int64}``` with a 1 in the position indicated by the ordering above, and 0's otherwise.  "
   ]
  },
  {
   "cell_type": "code",
   "execution_count": 2,
   "metadata": {},
   "outputs": [],
   "source": [
    "e = Dict(\n",
    "    \"1\" => [1 0 0 0 0 0 0 0 0 0 0 0 0 0],\n",
    "    \"2\" => [0 1 0 0 0 0 0 0 0 0 0 0 0 0],\n",
    "    \"3\" => [0 0 1 0 0 0 0 0 0 0 0 0 0 0],\n",
    "    \"4\" => [0 0 0 1 0 0 0 0 0 0 0 0 0 0],\n",
    "    \"12\" => [0 0 0 0 1 0 0 0 0 0 0 0 0 0],\n",
    "    \"13\" => [0 0 0 0 0 1 0 0 0 0 0 0 0 0],\n",
    "    \"14\" => [0 0 0 0 0 0 1 0 0 0 0 0 0 0],\n",
    "    \"23\" => [0 0 0 0 0 0 0 1 0 0 0 0 0 0],\n",
    "    \"24\" => [0 0 0 0 0 0 0 0 1 0 0 0 0 0],\n",
    "    \"34\" => [0 0 0 0 0 0 0 0 0 1 0 0 0 0],\n",
    "    \"123\" => [0 0 0 0 0 0 0 0 0 0 1 0 0 0],\n",
    "    \"124\" => [0 0 0 0 0 0 0 0 0 0 0 1 0 0],\n",
    "    \"134\" => [0 0 0 0 0 0 0 0 0 0 0 0 1 0],\n",
    "    \"234\" => [0 0 0 0 0 0 0 0 0 0 0 0 0 1]\n",
    ");"
   ]
  },
  {
   "cell_type": "markdown",
   "metadata": {},
   "source": [
    "The lineality space of $\\operatorname{TF\\ell}_4^{\\circ}$ is the row span of the following ```Matrix{Int64}```.   "
   ]
  },
  {
   "cell_type": "code",
   "execution_count": 3,
   "metadata": {},
   "outputs": [],
   "source": [
    "lin = vcat(\n",
    "       e[\"1\"] + e[\"12\"] + e[\"13\"] + e[\"14\"] + e[\"123\"] + e[\"124\"] + e[\"134\"],\n",
    "       e[\"2\"] + e[\"12\"] + e[\"23\"] + e[\"24\"] + e[\"123\"] + e[\"124\"] + e[\"234\"],\n",
    "       e[\"3\"] + e[\"13\"] + e[\"23\"] + e[\"34\"] + e[\"123\"] + e[\"134\"] + e[\"234\"],\n",
    "       e[\"4\"] + e[\"14\"] + e[\"24\"] + e[\"34\"] + e[\"124\"] + e[\"134\"] + e[\"234\"],\n",
    "       e[\"1\"] + e[\"2\"] + e[\"3\"] + e[\"4\"],\n",
    "       e[\"12\"] + e[\"13\"] + e[\"14\"] + e[\"23\"] + e[\"24\"] + e[\"34\"],\n",
    "       e[\"123\"] + e[\"124\"] + e[\"134\"] + e[\"234\"]\n",
    "    );"
   ]
  },
  {
   "cell_type": "markdown",
   "metadata": {},
   "source": [
    "The group $\\mathfrak{S}_2 \\times \\mathfrak{S}_4$ acts faithfully on $\\mathbb{R}^{14}$ by permuting the coordinates, and this realizes $\\mathfrak{S}_2 \\times \\mathfrak{S}_4$ as a subgroup of $\\mathfrak{S}_{14}$; this is recorded as a ```Group``` named ```S2S4InS14```. This action restricts to an action on $\\mathcal{F}_4$ and $\\mathcal{F}_4'$. "
   ]
  },
  {
   "cell_type": "code",
   "execution_count": 4,
   "metadata": {},
   "outputs": [],
   "source": [
    "S14Gp = symmetric_group(14); \n",
    "\n",
    "S2S4InS14, _ = sub(S14Gp, [perm(S14Gp,[2,1,3,4,5,8,9,6,7,10,11,12,14,13]),\n",
    "                           perm(S14Gp,[2,3,4,1,8,9,5,10,6,7,14,11,12,13]),\n",
    "                           perm(S14Gp,[14,13,12,11,10,9,8,7,6,5,4,3,2,1])]);"
   ]
  },
  {
   "cell_type": "markdown",
   "metadata": {},
   "source": [
    "Next, we record some functions that we use to study the two fan structures. \n",
    "\n",
    "**Function**: ```permuteCoordsCone```\n",
    "\n",
    "*Input*: ```coneRays, linSpace = Matrix{Int64}```, ```sigma = Vector{Int64}```\n",
    "\n",
    "*Output*: ```Cone```\n",
    "\n",
    "*Description*: The rows of the matrix ```coneRays``` are the rays of a cone, the rows of the matrix ```linSpace``` are generators for the lineality space, and ```sigma``` is records a permutation of the columns of these matrices as a vector $(\\sigma(1), \\sigma(2),\\ldots )$. This function returns a cone whose rays are obtained by permuting their coordinates according to $\\sigma$. \n",
    "\n",
    "---\n",
    "\n",
    "**Function**: ```coneFromRaysLin```\n",
    "\n",
    "*Input*: ```coneRays, linSpace = Matrix{Int64}```\n",
    "\n",
    "*Output*: ```Cone```\n",
    "\n",
    "*Description*: The rows of the matrix ```coneRays``` are the rays of a cone, the rows of the matrix ```linSpace``` are generators for the lineality space. This function returns a cone with rays ```coneRays``` and lineality space ```linSpace```. \n",
    "\n",
    "---\n",
    "\n",
    "**Function**: ```C1ContainedInC2```\n",
    "\n",
    "*Input*: ```C1, C2 = Cone```\n",
    "\n",
    "*Output*: ```Bool```\n",
    "\n",
    "*Description*: ```C1,C2``` are two cones in the same ambient space. This function returns ```true``` if ```C1``` is contained in ```C2``` and ```false``` otherwise. \n",
    "\n",
    "---\n",
    "\n",
    "**Function**: ```uniqueCones```\n",
    "\n",
    "*Input*: ```Cs = Vector{Cone}```\n",
    "\n",
    "*Output*: ```Vector{Cone}```\n",
    "\n",
    "*Description*: ```Cs``` is a list of cones, and this function returns a new list of cones that removes repeated cones. \n",
    "\n",
    "---\n",
    "\n",
    "**Function**: ```localLinealityDimension```\n",
    "\n",
    "*Input*: ```Rs, Ls = Matrix{Int64}```, ```maxConesRays = Vector{Matrix{Int64}}```\n",
    "\n",
    "*Output*: ```Int64```\n",
    "\n",
    "*Description*: ```Rs``` and ```Ls``` are matrices whose rows record the rays and lineality space of a cone $C$, and ```maxConesRays``` are maximal cones in a fan that contain $C$. Each maximal cone in ```maxConesRays``` is recorded as a ```Matrix{Rational{Int64}}``` whose rows are the rays (the lineality space is also given by ```Ls```). This function forms linear subspaces each spanned by a maximal cone and records the dimension of their intersection. \n",
    "\n",
    "---\n",
    "\n",
    "\n"
   ]
  },
  {
   "cell_type": "code",
   "execution_count": 5,
   "metadata": {},
   "outputs": [
    {
     "data": {
      "text/plain": [
       "localLinealityDimension (generic function with 1 method)"
      ]
     },
     "execution_count": 5,
     "metadata": {},
     "output_type": "execute_result"
    }
   ],
   "source": [
    "function permuteCoordsCone(coneRays, linSpace, sigma)\n",
    "    sConesRays = coneRays[:, sigma]\n",
    "    return positive_hull(vcat(sConesRays, linSpace, -linSpace ))\n",
    "end\n",
    "\n",
    "function coneFromRaysLin(coneRays, linSpace)\n",
    "    return positive_hull(vcat(coneRays, linSpace, -linSpace)) \n",
    "end\n",
    "\n",
    "function C1ContainedInC2(C1,C2)\n",
    "    C12 = intersect(C1,C2)\n",
    "    return C12 == C1\n",
    "end\n",
    "\n",
    "function uniqueCones(Cs)\n",
    "    S = Vector{Cone}();\n",
    "    for c in Cs\n",
    "        if c in S\n",
    "            continue\n",
    "        end\n",
    "        append!(S,[c])\n",
    "    end\n",
    "    return S\n",
    "end\n",
    "\n",
    "function localLinealityDimension(Rs, Ls, maxConesRays)\n",
    "    \n",
    "    #newLin = Matrix{Rational{Int64}}(vcat(Ls, Rs)); \n",
    "    newLin = vcat(Ls, Rs); \n",
    "    (nr,nc) = size(newLin)\n",
    "    S = MatrixSpace(QQ, nr, nc)\n",
    "    \n",
    "    ker = S();\n",
    "    for rs in maxConesRays\n",
    "        rowSpan = vcat(newLin, rs); \n",
    "        nrows, ncols = size(rowSpan); \n",
    "        S = MatrixSpace(QQ, nrows, ncols);\n",
    "        ker = vcat(ker,transpose(kernel(S(rowSpan))[2])); \n",
    "    end\n",
    "    \n",
    "    return 14 - rank(ker)\n",
    "end"
   ]
  },
  {
   "cell_type": "markdown",
   "metadata": {},
   "source": [
    "### Fiber fan structure $\\mathcal{F}_4$\n",
    "\n",
    "Next, we record the fan $\\mathcal{F}_4$. This agrees with the Gr\\\"obner fan structure computed by ```gfan```, and is verified at the end of this notebook. \n",
    "\n",
    "<ul>\n",
    "  <li> <code>cones</code> is a <code>Vector{Matrix{Int64}}</code> recording $\\mathfrak{S}_2 \\times \\mathfrak{S}_4$-orbit representatives of the cones of $\\mathcal{F}_4$. </li>\n",
    "  <li> <code>maxCones</code> is a <code>Vector{Cone}</code> recording all maximal cones of $\\mathcal{F}_4$.</li>\n",
    "  <li> <code>star</code> is a <code>Dict</code> whose keys are the numbers $1,\\ldots,9$ refering to the indices of<code>cones</code>, and the value <code>star[i]</code> records the maximal cones containing <code>cones[i]</code>.  </li>\n",
    "   <li> <code>starConesRays</code> is a  <code>Dict</code> similar to  <code>star</code>, but each maximal cone in \n",
    "    <code>star[i]</code> is recorded as a <code>Matrix{Rational{Int64}}</code> whose rows are the rays of the maximal cone. </li>\n",
    "</ul> "
   ]
  },
  {
   "cell_type": "code",
   "execution_count": 6,
   "metadata": {},
   "outputs": [],
   "source": [
    "cones = [\n",
    "    e[\"1\"],\n",
    "    e[\"12\"],\n",
    "    e[\"1\"]+e[\"2\"]+e[\"12\"],\n",
    "    [e[\"1\"]; e[\"23\"]],\n",
    "    [e[\"1\"]; e[\"123\"]],\n",
    "    [e[\"1\"]; e[\"234\"]],\n",
    "    [e[\"1\"]; e[\"1\"]+e[\"2\"]+e[\"12\"]],\n",
    "    [e[\"12\"]; e[\"34\"]],\n",
    "    [e[\"12\"]; e[\"3\"]+e[\"4\"]+e[\"34\"]],\n",
    "    [e[\"1\"]; e[\"23\"]; e[\"124\"]],\n",
    "    [e[\"1\"]; e[\"23\"]; e[\"1\"]+e[\"4\"]+e[\"14\"]],\n",
    "    [e[\"1\"]; e[\"123\"]; e[\"1\"]+e[\"4\"]+e[\"14\"]],\n",
    "    [e[\"1\"]; e[\"234\"]; e[\"1\"]+e[\"2\"]+e[\"12\"]],\n",
    "    [e[\"12\"]; e[\"34\"]; e[\"1\"]+e[\"2\"]+e[\"12\"]]\n",
    "];\n",
    "\n",
    "preMaxCones = vcat( [permuteCoordsCone(cones[10], lin, Vector(sigma)) for sigma in elements(S2S4InS14)],\n",
    "                    [permuteCoordsCone(cones[11], lin, Vector(sigma)) for sigma in elements(S2S4InS14)],\n",
    "                    [permuteCoordsCone(cones[12], lin, Vector(sigma)) for sigma in elements(S2S4InS14)],\n",
    "                    [permuteCoordsCone(cones[13], lin, Vector(sigma)) for sigma in elements(S2S4InS14)],\n",
    "                    [permuteCoordsCone(cones[14], lin, Vector(sigma)) for sigma in elements(S2S4InS14)])\n",
    "\n",
    "maxCones = uniqueCones(preMaxCones);\n",
    "\n",
    "star = Dict()\n",
    "for i in 1:9\n",
    "    c = coneFromRaysLin(cones[i], lin); \n",
    "    star[i] = [];\n",
    "    for mc in maxCones\n",
    "#        mcc = conesFromRaysLin(rays()) \n",
    "        if C1ContainedInC2(c,mc)\n",
    "            append!(star[i], [mc])\n",
    "        end\n",
    "    end\n",
    "end\n",
    "\n",
    "\n",
    "starConesRays = Dict()\n",
    "for i in 1:9\n",
    "    starConesRays[i] = [Matrix{Rational{Int64}}(rays(mc).Obj.RAYS)  for mc in star[i]]\n",
    "end\n"
   ]
  },
  {
   "cell_type": "markdown",
   "metadata": {},
   "source": [
    "## Matroidal subdivisions"
   ]
  },
  {
   "cell_type": "code",
   "execution_count": 7,
   "metadata": {},
   "outputs": [
    {
     "data": {
      "text/plain": [
       "allSubsetsSizeLex (generic function with 1 method)"
      ]
     },
     "execution_count": 7,
     "metadata": {},
     "output_type": "execute_result"
    }
   ],
   "source": [
    "function permutahedron(n)\n",
    "    return orbit_polytope(1:n, symmetric_group(n))\n",
    "end\n",
    "\n",
    "function invertPerm(p)\n",
    "    n=length(p)\n",
    "    pd = Dict{Int64,Int64}(i=>p[i] for i in 1:n)\n",
    "    pdinv = Dict{Int64,Int64}(value=>key for (key,value) in pd)\n",
    "    [pdinv[i] for i in 1:n]\n",
    "end\n",
    "\n",
    "\n",
    "function permutation2Flag(p)\n",
    "    n=length(p)\n",
    "    irp = reverse(invertPerm(p))\n",
    "    return [ sort([irp[i] for i in 1:d]) for d in 1:(n-1)]\n",
    "end\n",
    "\n",
    "function flag2Permutation(flag)    \n",
    "    n = length(flag) + 1\n",
    "    p1 = pop!([r for r in f[1]])\n",
    "    p = [p1]\n",
    "    for k in 2:(n-1)\n",
    "        pk = pop!([r for r in setdiff(flag[k], flag[k-1])])\n",
    "        append!(p,[pk]); \n",
    "    end\n",
    "    pn = pop!([r for r in setdiff(Set(1:n), flag[n-1])])\n",
    "    append!(p,[pn])\n",
    "\n",
    "    return fill((n+1),(1,n))[1,:] - invertPerm(p)\n",
    "end\n",
    "\n",
    "\n",
    "function allSubsetsSizeLex(n)\n",
    "    return [collect(powerset([1:n;], d, d)) for d in 1:(n-1)]\n",
    "end"
   ]
  },
  {
   "cell_type": "code",
   "execution_count": 8,
   "metadata": {},
   "outputs": [
    {
     "data": {
      "text/plain": [
       "plueckerVector2SubdPermutahedron (generic function with 1 method)"
      ]
     },
     "execution_count": 8,
     "metadata": {},
     "output_type": "execute_result"
    }
   ],
   "source": [
    "function plueckerVector2Dict(plueckerVector, n)\n",
    "    subsets = []\n",
    "    for d in 1:(n-1)\n",
    "        append!(subsets,collect(powerset([1:n;], d, d))); \n",
    "    end\n",
    "    dPl = Dict{Vector{Int64}, Int64}()\n",
    "    for i in 1:length(subsets)\n",
    "        dPl[subsets[i]] = plueckerVector[i];\n",
    "    end\n",
    "    \n",
    "    return dPl\n",
    "end\n",
    "\n",
    "\n",
    "function pluecker2PermutahedronPoints(plueckerVector,n)\n",
    "    pvD = plueckerVector2Dict(plueckerVector, n);\n",
    "    newDict = Dict{Any, Int64}()\n",
    "    subsetsn = allSubsetsSizeLex(n)\n",
    "    \n",
    "    ptsMinkowskiSum = IterTools.product(subsetsn...)\n",
    "    \n",
    "    for lambdaVec in ptsMinkowskiSum\n",
    "        newDict[lambdaVec] = sum(map(lambda -> pvD[lambda], lambdaVec));\n",
    "    end\n",
    "    return newDict\n",
    "end\n",
    "\n",
    "function indicator(lambda, n)\n",
    "    chi = zeros(Int64, 1, n); \n",
    "    for i in lambda\n",
    "        chi[1,i] += 1\n",
    "    end\n",
    "    return chi\n",
    "end\n",
    "\n",
    "function subsets2PointPermutahedron(lambdaVec,n)\n",
    "    return sum(map( lambda -> indicator(lambda, n)  , lambdaVec  )   )\n",
    "end\n",
    "\n",
    "function makePointsWeights(inDict, n )\n",
    "    \n",
    "    lambdaVecs = keys(inDict)\n",
    "    \n",
    "    pointsMatrix = zeros(Int64, length(lambdaVecs), n)\n",
    "    \n",
    "    weight = zeros(Int64, length(lambdaVecs))\n",
    "    \n",
    "    i=1\n",
    "    for lambdaVec in lambdaVecs\n",
    "        point = subsets2PointPermutahedron(lambdaVec,n)\n",
    "        wPoint = inDict[lambdaVec]\n",
    "        pointsMatrix[i,:] = point\n",
    "        weight[i] = wPoint\n",
    "        i+=1\n",
    "        \n",
    "    end\n",
    "    \n",
    "    return (pointsMatrix, weight)\n",
    "    \n",
    "end\n",
    "\n",
    "\n",
    "function plueckerVector2SubdPermutahedron(plueckerVector,n)\n",
    "    newDict = pluecker2PermutahedronPoints(plueckerVector,n)\n",
    "    points, weights = makePointsWeights(newDict, n )\n",
    "    \n",
    "    return SubdivisionOfPoints(points, weights)\n",
    "end\n",
    "\n"
   ]
  },
  {
   "cell_type": "code",
   "execution_count": 9,
   "metadata": {},
   "outputs": [
    {
     "data": {
      "text/plain": [
       "set2Array (generic function with 1 method)"
      ]
     },
     "execution_count": 9,
     "metadata": {},
     "output_type": "execute_result"
    }
   ],
   "source": [
    "function vertices2Bases(vs, n)\n",
    "    Bs = Set([])\n",
    "    nrows,ncols = size(vs)\n",
    "    \n",
    "    for i in 1:nrows\n",
    "        union!(Bs, permutation2Flag(vs[i,:]))\n",
    "    end\n",
    "    return Bs    \n",
    "end\n",
    "\n",
    "function subd2BasesMaxCells(subd, n)\n",
    "    vs =  Matrix{Int64}(subd.pm_subdivision.POINTS)[:,2:n+1]; \n",
    "    verts = Matrix{Int64}(subd.pm_subdivision.POLYHEDRAL_COMPLEX.VERTICES)[:,2:n+1]\n",
    "    nVerts = subd.pm_subdivision.POLYHEDRAL_COMPLEX.N_VERTICES\n",
    "    \n",
    "    mcs = subd.pm_subdivision.POLYHEDRAL_COMPLEX.MAXIMAL_POLYTOPES\n",
    "    nMaxCells = subd.pm_subdivision.N_MAXIMAL_CELLS; \n",
    "    \n",
    "    mcsPerm = [verts[[i for i in 1:nVerts if mcs[j,:][i]], :] for j in 1:nMaxCells ] \n",
    "    mcsPerm = pm.to_one_based_indexing(mcsPerm)\n",
    "    \n",
    "    return Dict{Int64, Vector{Vector{Int64}}}(i => set2Array(vertices2Bases(mcsPerm[i],n)) for i in 1:nMaxCells);\n",
    "end\n",
    "\n",
    "function sumRows(M)\n",
    "    nrows,ncols = size(M)\n",
    "    rM = [M[i,:] for i in 1:nrows  ]\n",
    "    return(sum(rM))\n",
    "end\n",
    "\n",
    "function set2Array(S)\n",
    "    arr = []\n",
    "    for i in S\n",
    "        append!(arr,[i])\n",
    "    end\n",
    "    return sort!(arr, by = x->(length(x),x))\n",
    "end"
   ]
  },
  {
   "cell_type": "markdown",
   "metadata": {},
   "source": [
    "**Function**: ```permutahedron```\n",
    "\n",
    "*Input*: ```n = Int64```\n",
    "\n",
    "*Output*: ```Polytope```\n",
    "\n",
    "*Description*: returns the degree $n$ permutahedron, i.e., the $\\mathfrak{S}_n$ orbit of $(1,2,,\\ldots,n)$. \n",
    "\n",
    "---\n",
    "\n",
    "**Function**: ```invertPerm```\n",
    "\n",
    "*Input*: ```sigma = Vector{Int64}```\n",
    "\n",
    "*Output*: ```Vector{Int64}```\n",
    "\n",
    "*Description*: given a permutation $\\sigma\\in \\mathfrak{S}_n$ as the vector $(\\sigma(1), \\sigma(2), \\ldots,\\sigma(n))$, this function returns $(\\sigma^{-1}(1), \\sigma^{-1}(2), \\ldots, \\sigma^{-1}(n))$.\n",
    "\n",
    "---\n",
    "\n",
    "**Function**: ```permutation2Flag```\n",
    "\n",
    "*Input*: ```sigma = Vector{Int64}```\n",
    "\n",
    "*Output*: ```Vector{Vector{Int64}}```\n",
    "\n",
    "*Description*: given a permutation $\\sigma\\in \\mathfrak{S}_n$ as the vector $(\\sigma(1), \\sigma(2), \\ldots,\\sigma(n))$, this function returns the corresponding complete flag $\\emptyset = F_0 \\subset F_1 \\subset F_2 \\subset \\cdots \\subset F_{n-1} \\subset F_{n} = [n]$ where $|F_{k}| = k$ and $F_{n-k+1} \\setminus F_{n-k} = \\{\\sigma^{-1}(k)\\}$.\n",
    "\n",
    "For example, the permutation $\\sigma = (4,1,3,2)$ corresponds to the flag $\\{1\\} \\subset \\{1,3\\} \\subset \\{1,3,4\\}$. \n",
    "\n",
    "---\n",
    "\n",
    "**Function**: ```flag2Permutation```\n",
    "\n",
    "*Input*: ```flag = Vector{Vector{Int64}}```\n",
    "\n",
    "*Output*: ```Vector{Int64}```\n",
    "\n",
    "*Description*: given a complete flag $\\emptyset = F_0 \\subset F_1 \\subset F_2 \\subset \\cdots \\subset F_{n-1} \\subset F_{n} = [n]$, this function returns a permutation $\\sigma$ satisfying $F_{n-k+1} \\setminus F_{n-k} = \\{\\sigma^{-1}(k)\\}$; it returns $\\sigma$ as the vector $(\\sigma(1),\\ldots,\\sigma(n))$. \n",
    "\n",
    "For example, the flag $\\{1\\} \\subset \\{1,3\\} \\subset \\{1,3,4\\}$ maps to the permutation $\\sigma = (4,1,3,2)$. \n",
    "\n",
    "---\n",
    "\n",
    "**Function**: ```plueckerVector2Dict```\n",
    "\n",
    "*Input*: ```plueckerVector = Vector{Int64}, n = Int64```\n",
    "\n",
    "*Output*: ```Dict{Vector{Int64}, Int64}```\n",
    "\n",
    "*Description*: ```plueckerVector``` is a vector of Pluecker coordinates in $\\prod_{d=1}^n \\wedge^d\\mathbb{R}^n$ where the coordinates are indexed by the nonempty proper subsets of $[n]$, ordered first by size, then lexicographically. This function returns a dictionary where the keys are the nonempty proper subsets of $[n]$ (as ```Vector{Int64}```) and the value on a subset it the corresponding value of ```plueckerVector```. \n",
    "\n",
    "For example, the vector $(1,2,3,4,5,6,7,8,9,10,11,12,13,14)$ in $\\wedge^1\\mathbb{R}^4 \\times \\wedge^2\\mathbb{R}^4 \\times \\wedge^3\\mathbb{R}^4$ corresponds to the dictionary ```[1] => 1, [2] => 2, [3] => 3, [4] => 4, [1,2] => 5, [1,3] => 6, [1,4] => 7, [2,3] => 8, [2,4] => 9, [3,4] => 10, [1,2,3] => 11, [1,2,4] => 12, [1,3,4] => 13, [2,3,4] => 14```. \n",
    "\n",
    "---\n",
    "\n",
    "**Function**: ```pluecker2Permutahedron```\n",
    "\n",
    "*Input*: ```plueckerVector = Vector{Int64}, n = Int64```\n",
    "\n",
    "*Output*: ```Dict{Vector{Int64}, Int64}```\n",
    "\n",
    "*Description*: ```plueckerVector``` is a vector $(w_1,\\ldots,w_{n-1})$ of Pluecker coordinates in the product $\\prod_{d=1}^n \\wedge^d\\mathbb{R}^n$ where the coordinates are indexed by the nonempty proper subsets of $[n]$, ordered first by size, then lexicographically, see ```plueckerVector2Dict``` above. This function returns a weight vector $w$ on the vertices of the permutahedron $\\Pi_n$ in such a way that the subdivision $\\operatorname{subd}_w\\Pi_n$ is the mixed subdivision of $\\Delta(1,n) + \\cdots + \\Delta(n-1,n)$ corresponding to $(w_1,\\ldots,w_{n-1})$. Here, $w$ is recorded as a ```Dict{Vector{Int64}, Int64}``` where the keys are the permutations of $[n]$. \n",
    "\n",
    "For example, the vector $(1,2,3,4,5,6,7,8,9,10,11,12,13,14)$ in $\\wedge^1\\mathbb{R}^4 \\times \\wedge^2\\mathbb{R}^4 \\times \\wedge^3\\mathbb{R}^4$ corresponds to the dictionary ```[1] => 1, [2] => 2, [3] => 3, [4] => 4, [1,2] => 5, [1,3] => 6, [1,4] => 7, [2,3] => 8, [2,4] => 9, [3,4] => 10, [1,2,3] => 11, [1,2,4] => 12, [1,3,4] => 13, [2,3,4] => 14``` as above. The vector $w$ is a dictionary where, e.g., ```[4,3,2,1] => 17``` ($= w_1 + w_{12} + w_{123}$, note the shift by 1).   \n",
    "\n",
    "---\n",
    "\n",
    "**Function**: ```subdPermutahedron```\n",
    "\n",
    "*Input*: ```plueckerVector = Vector{Int64}, n = Int64```\n",
    "\n",
    "*Output*: ```Subdivision```\n",
    "\n",
    "*Description*: ```plueckerVector``` is a vector $(w_1,\\ldots,w_{n-1})$ of Pluecker coordinates in the multiprojective space $\\prod_{d=1}^n \\wedge^d\\mathbb{R}^n$ where the coordinates are indexed by the nonempty proper subsets of $[n]$, ordered first by size, then lexicographically, see ```plueckerVector2Dict``` above. This function returns the corresponding mixed subdivision of $\\Pi_n = \\Delta(1,n) + \\cdots + \\Delta(n-1,n)$.\n",
    "\n",
    "---\n",
    "\n",
    "**Function**: ```vertices2Bases```\n",
    "\n",
    "*Input*: ```vs = Matrix{Int64}, n = Int64```\n",
    "\n",
    "*Output*: ```Set```\n",
    "\n",
    "*Description*: ```vs``` is a matrix with $n$ columns whose rows are vertices of a subpermutahedron of $\\Pi_n$. This function returns the bases of the corresponding flag matroid. \n",
    "\n",
    "---\n",
    "\n",
    "**Function**: ```subd2BasesMaxCells```\n",
    "\n",
    "*Input*: ```subd = Subdivision, n = Int64```\n",
    "\n",
    "*Output*: ```Dict{Int64, Vector{Vector{Int64}}}```\n",
    "\n",
    "*Description*: ```subd``` is a matroidal subdivision of $\\Pi_n$. This function returns the flag matroids of the top-dimensional cells where each flag matroid is expressed as a list of its bases. \n",
    "\n",
    "---\n",
    "\n",
    "**Function**: ```sumRows```\n",
    "\n",
    "*Input*: ```M = Matrix{Int64}```\n",
    "\n",
    "*Output*: ```Vector{Int64}```\n",
    "\n",
    "*Description*: This function returns the sum of the rows of the matrix ```M```. \n",
    "\n",
    "---\n",
    "\n",
    "**Function**: ```set2Array```\n",
    "\n",
    "*Input*: ```S=Set```\n",
    "\n",
    "*Output*: ```Vector{Vector{Int64}}```\n",
    "\n",
    "*Description*: ```S``` is a set of ```Vector{Int64}```'s, this function returns this data as a list ordered first with respect to size, then lexicographically. \n",
    "\n"
   ]
  },
  {
   "cell_type": "code",
   "execution_count": 10,
   "metadata": {},
   "outputs": [],
   "source": [
    "subd = [plueckerVector2SubdPermutahedron(sumRows(cones[i]), 4) for i in 1:length(cones)];\n",
    "maxCells = [subd2BasesMaxCells(subd[i],4) for i in 1:length(cones)];\n",
    "graphs = [subd[i].pm_subdivision.POLYHEDRAL_COMPLEX.DUAL_GRAPH  for i in 1:length(cones)];"
   ]
  },
  {
   "cell_type": "markdown",
   "metadata": {},
   "source": [
    "The cells below record the matroidal subdivisions of $\\operatorname{F\\ell}^{\\circ}(4)$. The union of the bases for each flag matroid is recorded, and one can view the dual graph of the subdivision by uncommenting and running ```pm.visual(graphs[d])```."
   ]
  },
  {
   "cell_type": "code",
   "execution_count": 11,
   "metadata": {},
   "outputs": [
    {
     "name": "stdout",
     "output_type": "stream",
     "text": [
      "0: [[1], [2], [3], [4], [1, 2], [1, 3], [1, 4], [1, 2, 3], [1, 2, 4], [1, 3, 4]]\n",
      "1: [[2], [3], [4], [1, 2], [1, 3], [1, 4], [2, 3], [2, 4], [3, 4], [1, 2, 3], [1, 2, 4], [1, 3, 4], [2, 3, 4]]\n"
     ]
    }
   ],
   "source": [
    "d=1\n",
    "for i in 1:length(keys(maxCells[d]))\n",
    "    print(i-1); print(\": \"); print(maxCells[d][i]); print(\"\\n\")\n",
    "end\n",
    "#pm.visual(graphs[d])"
   ]
  },
  {
   "cell_type": "code",
   "execution_count": 12,
   "metadata": {},
   "outputs": [
    {
     "name": "stdout",
     "output_type": "stream",
     "text": [
      "0: [[1], [2], [1, 2], [1, 3], [1, 4], [2, 3], [2, 4], [1, 2, 3], [1, 2, 4]]\n",
      "1: [[1], [2], [3], [4], [1, 3], [1, 4], [2, 3], [2, 4], [3, 4], [1, 2, 3], [1, 2, 4], [1, 3, 4], [2, 3, 4]]\n"
     ]
    }
   ],
   "source": [
    "d=2\n",
    "for i in 1:length(keys(maxCells[d]))\n",
    "    print(i-1); print(\": \"); print(maxCells[d][i]); print(\"\\n\")\n",
    "end\n",
    "#pm.visual(graphs[d])"
   ]
  },
  {
   "cell_type": "code",
   "execution_count": 13,
   "metadata": {},
   "outputs": [
    {
     "name": "stdout",
     "output_type": "stream",
     "text": [
      "0: [[1], [2], [3], [4], [1, 2], [1, 3], [1, 4], [2, 3], [2, 4], [1, 2, 3], [1, 2, 4]]\n",
      "1: [[2], [3], [4], [2, 3], [2, 4], [1, 2, 3], [1, 2, 4], [2, 3, 4]]\n",
      "2: [[3], [4], [1, 3], [1, 4], [2, 3], [2, 4], [3, 4], [1, 2, 3], [1, 2, 4], [1, 3, 4], [2, 3, 4]]\n",
      "3: [[1], [3], [4], [1, 3], [1, 4], [1, 2, 3], [1, 2, 4], [1, 3, 4]]\n"
     ]
    }
   ],
   "source": [
    "d=3\n",
    "for i in 1:length(keys(maxCells[d]))\n",
    "    print(i-1); print(\": \"); print(maxCells[d][i]); print(\"\\n\")\n",
    "end\n",
    "#pm.visual(graphs[d])"
   ]
  },
  {
   "cell_type": "code",
   "execution_count": 15,
   "metadata": {},
   "outputs": [
    {
     "name": "stdout",
     "output_type": "stream",
     "text": [
      "0: [[1], [2], [3], [4], [1, 2], [1, 3], [1, 4], [1, 2, 3], [1, 2, 4], [1, 3, 4]]\n",
      "1: [[2], [3], [4], [1, 2], [1, 3], [1, 4], [2, 4], [3, 4], [1, 2, 3], [1, 2, 4], [1, 3, 4], [2, 3, 4]]\n",
      "2: [[2], [3], [1, 2], [1, 3], [2, 3], [2, 4], [3, 4], [1, 2, 3], [2, 3, 4]]\n"
     ]
    }
   ],
   "source": [
    "d=4\n",
    "for i in 1:length(keys(maxCells[d]))\n",
    "    print(i-1); print(\": \"); print(maxCells[d][i]); print(\"\\n\")\n",
    "end\n",
    "#pm.visual(graphs[d])"
   ]
  },
  {
   "cell_type": "code",
   "execution_count": 16,
   "metadata": {},
   "outputs": [
    {
     "name": "stdout",
     "output_type": "stream",
     "text": [
      "0: [[1], [2], [3], [1, 2], [1, 3], [1, 2, 3], [1, 2, 4], [1, 3, 4]]\n",
      "1: [[2], [3], [4], [1, 2], [1, 3], [1, 4], [2, 3], [2, 4], [3, 4], [1, 2, 4], [1, 3, 4], [2, 3, 4]]\n",
      "2: [[2], [3], [1, 2], [1, 3], [2, 3], [1, 2, 3], [1, 2, 4], [1, 3, 4], [2, 3, 4]]\n",
      "3: [[1], [2], [3], [4], [1, 2], [1, 3], [1, 4], [1, 2, 4], [1, 3, 4]]\n"
     ]
    }
   ],
   "source": [
    "d=5\n",
    "for i in 1:length(keys(maxCells[d]))\n",
    "    print(i-1); print(\": \"); print(maxCells[d][i]); print(\"\\n\")\n",
    "end\n",
    "#pm.visual(graphs[d])"
   ]
  },
  {
   "cell_type": "code",
   "execution_count": 17,
   "metadata": {},
   "outputs": [
    {
     "name": "stdout",
     "output_type": "stream",
     "text": [
      "0: [[1], [2], [3], [4], [1, 2], [1, 3], [1, 4], [1, 2, 3], [1, 2, 4], [1, 3, 4]]\n",
      "1: [[2], [3], [4], [2, 3], [2, 4], [3, 4], [1, 2, 3], [1, 2, 4], [1, 3, 4], [2, 3, 4]]\n",
      "2: [[2], [3], [4], [1, 2], [1, 3], [1, 4], [2, 3], [2, 4], [3, 4], [1, 2, 3], [1, 2, 4], [1, 3, 4]]\n"
     ]
    }
   ],
   "source": [
    "d=6\n",
    "for i in 1:length(keys(maxCells[d]))\n",
    "    print(i-1); print(\": \"); print(maxCells[d][i]); print(\"\\n\")\n",
    "end\n",
    "\n",
    "#pm.visual(graphs[d])"
   ]
  },
  {
   "cell_type": "code",
   "execution_count": 18,
   "metadata": {},
   "outputs": [
    {
     "name": "stdout",
     "output_type": "stream",
     "text": [
      "0: [[1], [2], [3], [4], [1, 2], [1, 3], [1, 4], [1, 2, 3], [1, 2, 4]]\n",
      "1: [[2], [3], [4], [2, 3], [2, 4], [1, 2, 3], [1, 2, 4], [2, 3, 4]]\n",
      "2: [[3], [4], [1, 3], [1, 4], [2, 3], [2, 4], [3, 4], [1, 2, 3], [1, 2, 4], [1, 3, 4], [2, 3, 4]]\n",
      "3: [[2], [3], [4], [1, 2], [1, 3], [1, 4], [2, 3], [2, 4], [1, 2, 3], [1, 2, 4]]\n",
      "4: [[1], [3], [4], [1, 3], [1, 4], [1, 2, 3], [1, 2, 4], [1, 3, 4]]\n"
     ]
    }
   ],
   "source": [
    "d=7\n",
    "for i in 1:length(keys(maxCells[d]))\n",
    "    print(i-1); print(\": \"); print(maxCells[d][i]); print(\"\\n\")\n",
    "end\n",
    "\n",
    "#pm.visual(graphs[d])"
   ]
  },
  {
   "cell_type": "code",
   "execution_count": 19,
   "metadata": {},
   "outputs": [
    {
     "name": "stdout",
     "output_type": "stream",
     "text": [
      "0: [[1], [2], [1, 2], [1, 3], [1, 4], [2, 3], [2, 4], [1, 2, 3], [1, 2, 4]]\n",
      "1: [[3], [4], [1, 3], [1, 4], [2, 3], [2, 4], [3, 4], [1, 3, 4], [2, 3, 4]]\n",
      "2: [[1], [2], [3], [4], [1, 3], [1, 4], [2, 3], [2, 4], [1, 2, 3], [1, 2, 4], [1, 3, 4], [2, 3, 4]]\n"
     ]
    }
   ],
   "source": [
    "d=8\n",
    "for i in 1:length(keys(maxCells[d]))\n",
    "    print(i-1); print(\": \"); print(maxCells[d][i]); print(\"\\n\")\n",
    "end\n",
    "\n",
    "#pm.visual(graphs[d])"
   ]
  },
  {
   "cell_type": "code",
   "execution_count": 20,
   "metadata": {},
   "outputs": [
    {
     "name": "stdout",
     "output_type": "stream",
     "text": [
      "0: [[1], [2], [1, 2], [1, 3], [1, 4], [2, 3], [2, 4], [1, 2, 3], [1, 2, 4]]\n",
      "1: [[1], [2], [3], [1, 3], [2, 3], [1, 2, 3], [1, 3, 4], [2, 3, 4]]\n",
      "2: [[1], [2], [3], [4], [1, 3], [1, 4], [2, 3], [2, 4], [3, 4], [1, 3, 4], [2, 3, 4]]\n",
      "3: [[1], [2], [4], [1, 4], [2, 4], [1, 2, 4], [1, 3, 4], [2, 3, 4]]\n",
      "4: [[1], [2], [1, 3], [1, 4], [2, 3], [2, 4], [1, 2, 3], [1, 2, 4], [1, 3, 4], [2, 3, 4]]\n"
     ]
    }
   ],
   "source": [
    "d=9\n",
    "for i in 1:length(keys(maxCells[d]))\n",
    "    print(i-1); print(\": \"); print(maxCells[d][i]); print(\"\\n\")\n",
    "end\n",
    "\n",
    "#pm.visual(graphs[d])"
   ]
  },
  {
   "cell_type": "code",
   "execution_count": 21,
   "metadata": {},
   "outputs": [
    {
     "name": "stdout",
     "output_type": "stream",
     "text": [
      "0: [[1], [2], [4], [1, 2], [1, 4], [1, 2, 3], [1, 2, 4], [1, 3, 4]]\n",
      "1: [[1], [2], [3], [4], [1, 2], [1, 3], [1, 4], [1, 2, 3], [1, 3, 4]]\n",
      "2: [[2], [3], [1, 2], [1, 3], [2, 3], [2, 4], [3, 4], [1, 2, 3], [2, 3, 4]]\n",
      "3: [[2], [4], [1, 2], [1, 4], [2, 4], [1, 2, 3], [1, 2, 4], [1, 3, 4], [2, 3, 4]]\n",
      "4: [[2], [3], [4], [1, 2], [1, 3], [1, 4], [2, 4], [3, 4], [1, 2, 3], [1, 3, 4], [2, 3, 4]]\n"
     ]
    }
   ],
   "source": [
    "d=10\n",
    "for i in 1:length(keys(maxCells[d]))\n",
    "    print(i-1); print(\": \"); print(maxCells[d][i]); print(\"\\n\")\n",
    "end\n",
    "\n",
    "#pm.visual(graphs[d])"
   ]
  },
  {
   "cell_type": "code",
   "execution_count": 22,
   "metadata": {},
   "outputs": [
    {
     "name": "stdout",
     "output_type": "stream",
     "text": [
      "0: [[1], [2], [3], [1, 2], [1, 3], [1, 2, 3], [1, 2, 4], [1, 3, 4]]\n",
      "1: [[2], [3], [4], [2, 4], [3, 4], [1, 2, 4], [1, 3, 4], [2, 3, 4]]\n",
      "2: [[2], [3], [4], [1, 2], [1, 3], [1, 4], [2, 4], [3, 4], [1, 2, 4], [1, 3, 4]]\n",
      "3: [[2], [3], [1, 2], [1, 3], [2, 3], [2, 4], [3, 4], [1, 2, 3], [2, 3, 4]]\n",
      "4: [[2], [3], [1, 2], [1, 3], [2, 4], [3, 4], [1, 2, 3], [1, 2, 4], [1, 3, 4], [2, 3, 4]]\n",
      "5: [[1], [2], [3], [4], [1, 2], [1, 3], [1, 4], [1, 2, 4], [1, 3, 4]]\n"
     ]
    }
   ],
   "source": [
    "d=11\n",
    "for i in 1:length(keys(maxCells[d]))\n",
    "    print(i-1); print(\": \"); print(maxCells[d][i]); print(\"\\n\")\n",
    "end\n",
    "\n",
    "#pm.visual(graphs[d])"
   ]
  },
  {
   "cell_type": "code",
   "execution_count": 23,
   "metadata": {},
   "outputs": [
    {
     "name": "stdout",
     "output_type": "stream",
     "text": [
      "0: [[1], [2], [3], [1, 2], [1, 3], [1, 2, 3], [1, 2, 4], [1, 3, 4]]\n",
      "1: [[2], [3], [4], [2, 4], [3, 4], [1, 2, 4], [1, 3, 4], [2, 3, 4]]\n",
      "2: [[2], [3], [4], [1, 2], [1, 3], [1, 4], [2, 4], [3, 4], [1, 2, 4], [1, 3, 4]]\n",
      "3: [[2], [3], [1, 2], [1, 3], [2, 3], [2, 4], [3, 4], [1, 2, 4], [1, 3, 4], [2, 3, 4]]\n",
      "4: [[2], [3], [1, 2], [1, 3], [2, 3], [1, 2, 3], [1, 2, 4], [1, 3, 4], [2, 3, 4]]\n",
      "5: [[1], [2], [3], [4], [1, 2], [1, 3], [1, 4], [1, 2, 4], [1, 3, 4]]\n"
     ]
    }
   ],
   "source": [
    "d=12\n",
    "for i in 1:length(keys(maxCells[d]))\n",
    "    print(i-1); print(\": \"); print(maxCells[d][i]); print(\"\\n\")\n",
    "end\n",
    "\n",
    "#pm.visual(graphs[d])"
   ]
  },
  {
   "cell_type": "code",
   "execution_count": 24,
   "metadata": {},
   "outputs": [
    {
     "name": "stdout",
     "output_type": "stream",
     "text": [
      "0: [[1], [2], [3], [4], [1, 2], [1, 3], [1, 4], [1, 2, 3], [1, 2, 4]]\n",
      "1: [[3], [4], [2, 3], [2, 4], [3, 4], [1, 2, 3], [1, 2, 4], [1, 3, 4], [2, 3, 4]]\n",
      "2: [[2], [3], [4], [2, 3], [2, 4], [1, 2, 3], [1, 2, 4], [2, 3, 4]]\n",
      "3: [[3], [4], [1, 3], [1, 4], [2, 3], [2, 4], [3, 4], [1, 2, 3], [1, 2, 4], [1, 3, 4]]\n",
      "4: [[2], [3], [4], [1, 2], [1, 3], [1, 4], [2, 3], [2, 4], [1, 2, 3], [1, 2, 4]]\n",
      "5: [[1], [3], [4], [1, 3], [1, 4], [1, 2, 3], [1, 2, 4], [1, 3, 4]]\n"
     ]
    }
   ],
   "source": [
    "d=13\n",
    "for i in 1:length(keys(maxCells[d]))\n",
    "    print(i-1); print(\": \"); print(maxCells[d][i]); print(\"\\n\")\n",
    "end\n",
    "\n",
    "#pm.visual(graphs[d])"
   ]
  },
  {
   "cell_type": "code",
   "execution_count": 25,
   "metadata": {},
   "outputs": [
    {
     "name": "stdout",
     "output_type": "stream",
     "text": [
      "0: [[1], [2], [1, 2], [1, 3], [1, 4], [2, 3], [2, 4], [1, 2, 3], [1, 2, 4]]\n",
      "1: [[1], [3], [4], [1, 3], [1, 4], [1, 2, 3], [1, 2, 4], [1, 3, 4]]\n",
      "2: [[2], [3], [4], [2, 3], [2, 4], [1, 2, 3], [1, 2, 4], [2, 3, 4]]\n",
      "3: [[3], [4], [1, 3], [1, 4], [2, 3], [2, 4], [1, 2, 3], [1, 2, 4], [1, 3, 4], [2, 3, 4]]\n",
      "4: [[3], [4], [1, 3], [1, 4], [2, 3], [2, 4], [3, 4], [1, 3, 4], [2, 3, 4]]\n",
      "5: [[1], [2], [3], [4], [1, 3], [1, 4], [2, 3], [2, 4], [1, 2, 3], [1, 2, 4]]\n"
     ]
    }
   ],
   "source": [
    "d=14\n",
    "for i in 1:length(keys(maxCells[d]))\n",
    "    print(i-1); print(\": \"); print(maxCells[d][i]); print(\"\\n\")\n",
    "end\n",
    "\n",
    "#pm.visual(graphs[d])"
   ]
  },
  {
   "cell_type": "markdown",
   "metadata": {},
   "source": [
    "## Coarsest fan structure\n",
    "\n",
    "In $\\mathcal{F}_4$, the maximal cones $\\mathbb{R}_{\\geq 0} \\langle \\mathsf{e}_{12}, \\mathsf{e}_{34}, \\mathsf{e}_{1} + \\mathsf{e}_{2} + \\mathsf{e}_{12} \\rangle + L_{\\mathbb{R}}$ and $\\mathbb{R}_{\\geq 0} \\langle \\mathsf{e}_{12}, \\mathsf{e}_{34}, \\mathsf{e}_{3} + \\mathsf{e}_{4} + \\mathsf{e}_{34} \\rangle + L_{\\mathbb{R}}$ glue along $\\mathbb{R}_{\\geq 0} \\langle \\mathsf{e}_{12}, \\mathsf{e}_{34} \\rangle + L_{\\mathbb{R}}$ to form a larger convex cone. This happens for 2 other pairs of cones (corresponding to the other 2 partitions $(13,24)$ and $(14,23)$ of $[4]$). This produces a new fan supported on $\\operatorname{TFl}_4^{\\circ}$ called $\\mathcal{F_4'}$. "
   ]
  },
  {
   "cell_type": "code",
   "execution_count": 26,
   "metadata": {},
   "outputs": [],
   "source": [
    "cones = [\n",
    "    e[\"1\"],\n",
    "    e[\"12\"],\n",
    "    e[\"1\"]+e[\"2\"]+e[\"12\"],\n",
    "    [e[\"1\"]; e[\"23\"]],\n",
    "    [e[\"1\"]; e[\"123\"]],\n",
    "    [e[\"1\"]; e[\"234\"]],\n",
    "    [e[\"1\"]; e[\"1\"]+e[\"2\"]+e[\"12\"]],\n",
    "    [e[\"12\"]; e[\"3\"]+e[\"4\"]+e[\"34\"]],\n",
    "    [e[\"1\"]; e[\"23\"]; e[\"124\"]],\n",
    "    [e[\"1\"]; e[\"23\"]; e[\"1\"]+e[\"4\"]+e[\"14\"]],\n",
    "    [e[\"1\"]; e[\"123\"]; e[\"1\"]+e[\"4\"]+e[\"14\"]],\n",
    "    [e[\"1\"]; e[\"234\"]; e[\"1\"]+e[\"2\"]+e[\"12\"]],\n",
    "    [e[\"12\"]; e[\"34\"]; e[\"1\"]+e[\"2\"]+e[\"12\"]; e[\"3\"] + e[\"4\"] + e[\"34\"]]];\n",
    "\n",
    "\n",
    "preMaxCones = vcat( [permuteCoordsCone(cones[9],  lin, Vector(sigma)) for sigma in elements(S2S4InS14)],\n",
    "                    [permuteCoordsCone(cones[10], lin, Vector(sigma)) for sigma in elements(S2S4InS14)],\n",
    "                    [permuteCoordsCone(cones[11], lin, Vector(sigma)) for sigma in elements(S2S4InS14)],\n",
    "                    [permuteCoordsCone(cones[12], lin, Vector(sigma)) for sigma in elements(S2S4InS14)],\n",
    "                    [permuteCoordsCone(cones[13], lin, Vector(sigma)) for sigma in elements(S2S4InS14)])\n",
    "\n",
    "maxCones = uniqueCones(preMaxCones);\n",
    "\n",
    "star = Dict()\n",
    "for i in 1:9\n",
    "    c = coneFromRaysLin(cones[i], lin); \n",
    "    star[i] = [];\n",
    "    for mc in maxCones\n",
    "#        mcc = conesFromRaysLin(rays()) \n",
    "        if C1ContainedInC2(c,mc)\n",
    "            append!(star[i], [mc])\n",
    "        end\n",
    "    end\n",
    "end\n",
    "\n",
    "\n",
    "starConesRays = Dict()\n",
    "for i in 1:9\n",
    "    starConesRays[i] = [Matrix{Rational{Int64}}(rays(mc).Obj.RAYS)  for mc in star[i]]\n",
    "end"
   ]
  },
  {
   "cell_type": "markdown",
   "metadata": {},
   "source": [
    "The cell below verifies Lemma 7.1 in the paper, that the support of each local fan of $\\mathcal{F}_4'$ is not preserved under translation by a linear subspace. "
   ]
  },
  {
   "cell_type": "code",
   "execution_count": 27,
   "metadata": {},
   "outputs": [
    {
     "data": {
      "text/plain": [
       "true"
      ]
     },
     "execution_count": 27,
     "metadata": {},
     "output_type": "execute_result"
    }
   ],
   "source": [
    "all([localLinealityDimension(cones[1], lin, starConesRays[1]) == 7,\n",
    "localLinealityDimension(cones[2], lin, starConesRays[2]) == 7,\n",
    "localLinealityDimension(cones[3], lin, starConesRays[3]) == 7,\n",
    "localLinealityDimension(cones[4], lin, starConesRays[4]) == 8,\n",
    "localLinealityDimension(cones[5], lin, starConesRays[5]) == 8,\n",
    "localLinealityDimension(cones[6], lin, starConesRays[6]) == 8,\n",
    "localLinealityDimension(cones[7], lin, starConesRays[7]) == 8,\n",
    "localLinealityDimension(cones[8], lin, starConesRays[8]) == 8])"
   ]
  },
  {
   "cell_type": "markdown",
   "metadata": {},
   "source": [
    "## Verification that our presentation of the fiber-fan structure is that computed by gfan\n",
    "\n",
    "Above, we use a simplified expression of the rays of $\\operatorname{TF\\ell}^{\\circ}(4)$. We verify that this presentation is correct, and agrees with the output from ```gfan```. \n",
    "\n",
    "**Note** ```gfan``` uses the MAX convention, whereas we use the MIN convention. So all values from ```gfan``` must be negated to agree with our conventions."
   ]
  },
  {
   "cell_type": "code",
   "execution_count": 28,
   "metadata": {},
   "outputs": [],
   "source": [
    "gfanRays = \n",
    "[-3 -3 3 3 -2 4 4 4 4 -14 -3 -3 3 3; \n",
    "-3 3 -3 3 4 -2 4 4 -14 4 -3 3 -3 3; \n",
    "-3 3 3 -3 4 4 -2 -14 4 4 3 -3 -3 3; \n",
    "3 -3 -3 3 4 4 -14 -2 4 4 -3 3 3 -3; \n",
    "3 -3 3 -3 4 -14 4 4 -2 4 3 -3 3 -3; \n",
    "3 3 -3 -3 -14 4 4 4 4 -2 3 3 -3 -3; \n",
    "-3 -3 3 3 -4 2 2 2 2 -4 3 3 -3 -3; \n",
    "-3 3 -3 3 2 -4 2 2 -4 2 3 -3 3 -3; \n",
    "-3 3 3 -3 2 2 -4 -4 2 2 -3 3 3 -3; \n",
    "3 -3 -3 3 2 2 -4 -4 2 2 3 -3 -3 3; \n",
    "3 -3 3 -3 2 -4 2 2 -4 2 -3 3 -3 3; \n",
    "3 3 -3 -3 -4 2 2 2 2 -4 -3 -3 3 3; \n",
    "-9 3 3 3 2 2 2 -2 -2 -2 1 1 1 -3; \n",
    "-3 1 1 1 -2 -2 -2 2 2 2 3 3 3 -9; \n",
    "1 -3 1 1 -2 2 2 -2 -2 2 3 3 -9 3; \n",
    "1 1 -3 1 2 -2 2 -2 2 -2 3 -9 3 3; \n",
    "1 1 1 -3 2 2 -2 2 -2 -2 -9 3 3 3; \n",
    "3 -9 3 3 2 -2 -2 2 2 -2 1 1 -3 1; \n",
    "3 3 -9 3 -2 2 -2 2 -2 2 1 -3 1 1; \n",
    "3 3 3 -9 -2 -2 2 -2 2 2 -3 1 1 1];"
   ]
  },
  {
   "cell_type": "code",
   "execution_count": 29,
   "metadata": {},
   "outputs": [
    {
     "data": {
      "text/plain": [
       "true"
      ]
     },
     "execution_count": 29,
     "metadata": {},
     "output_type": "execute_result"
    }
   ],
   "source": [
    "all([\n",
    "    coneFromRaysLin(-gfanRays[1,:]', lin) == coneFromRaysLin(e[\"34\"], lin),\n",
    "    coneFromRaysLin(-gfanRays[2,:]', lin) == coneFromRaysLin(e[\"24\"], lin),\n",
    "    coneFromRaysLin(-gfanRays[3,:]', lin) == coneFromRaysLin(e[\"23\"], lin),\n",
    "    coneFromRaysLin(-gfanRays[4,:]', lin) == coneFromRaysLin(e[\"14\"], lin), \n",
    "    coneFromRaysLin(-gfanRays[5,:]', lin) == coneFromRaysLin(e[\"13\"], lin),\n",
    "    coneFromRaysLin(-gfanRays[6,:]', lin) == coneFromRaysLin(e[\"12\"], lin),\n",
    "    coneFromRaysLin(-gfanRays[7,:]', lin) == coneFromRaysLin(e[\"1\"]+e[\"2\"]+e[\"12\"], lin),\n",
    "    coneFromRaysLin(-gfanRays[8,:]', lin) == coneFromRaysLin(e[\"1\"]+e[\"3\"]+e[\"13\"], lin),\n",
    "    coneFromRaysLin(-gfanRays[9,:]', lin) == coneFromRaysLin(e[\"1\"]+e[\"4\"]+e[\"14\"], lin),\n",
    "    coneFromRaysLin(-gfanRays[10,:]', lin) == coneFromRaysLin(e[\"2\"]+e[\"3\"]+e[\"23\"], lin),\n",
    "    coneFromRaysLin(-gfanRays[11,:]', lin) == coneFromRaysLin(e[\"2\"]+e[\"4\"]+e[\"24\"], lin),\n",
    "    coneFromRaysLin(-gfanRays[12,:]', lin) == coneFromRaysLin(e[\"3\"]+e[\"4\"]+e[\"34\"], lin),\n",
    "    coneFromRaysLin(-gfanRays[13,:]', lin) == coneFromRaysLin(e[\"1\"], lin),\n",
    "    coneFromRaysLin(-gfanRays[14,:]', lin) == coneFromRaysLin(e[\"234\"], lin),\n",
    "    coneFromRaysLin(-gfanRays[15,:]', lin) == coneFromRaysLin(e[\"134\"], lin),\n",
    "    coneFromRaysLin(-gfanRays[16,:]', lin) == coneFromRaysLin(e[\"124\"], lin),\n",
    "    coneFromRaysLin(-gfanRays[17,:]', lin) == coneFromRaysLin(e[\"123\"], lin),\n",
    "    coneFromRaysLin(-gfanRays[18,:]', lin) == coneFromRaysLin(e[\"2\"], lin),\n",
    "    coneFromRaysLin(-gfanRays[19,:]', lin) == coneFromRaysLin(e[\"3\"], lin),\n",
    "    coneFromRaysLin(-gfanRays[20,:]', lin) == coneFromRaysLin(e[\"4\"], lin) \n",
    "        ])"
   ]
  },
  {
   "cell_type": "code",
   "execution_count": null,
   "metadata": {},
   "outputs": [],
   "source": [
    "gfan2Paper = Dict(\n",
    "    0 => e[\"34\"],\n",
    "    1 => e[\"24\"],\n",
    "    2 => e[\"23\"],\n",
    "    3 => e[\"14\"],\n",
    "    4 => e[\"13\"],\n",
    "    5 => e[\"12\"],\n",
    "    6 => e[\"1\"]+e[\"2\"]+e[\"12\"],\n",
    "    7 => e[\"1\"]+e[\"3\"]+e[\"13\"],\n",
    "    8 => e[\"1\"]+e[\"4\"]+e[\"14\"],\n",
    "    9 => e[\"2\"]+e[\"3\"]+e[\"23\"],\n",
    "    10 => e[\"2\"]+e[\"4\"]+e[\"24\"],\n",
    "    11 => e[\"3\"]+e[\"4\"]+e[\"34\"],\n",
    "    12 => e[\"1\"],\n",
    "    13 => e[\"234\"],\n",
    "    14 => e[\"134\"],\n",
    "    15 => e[\"124\"],\n",
    "    16 => e[\"123\"],\n",
    "    17 => e[\"2\"],\n",
    "    18 => e[\"3\"],\n",
    "    19 => e[\"4\"]\n",
    ");\n",
    "\n",
    "\n",
    "gfanCones = [\n",
    "    [12],\n",
    "    [5],\n",
    "    [6],\n",
    "    [2 12],\n",
    "    [12 16],\n",
    "    [12 13],\n",
    "    [6 12],\n",
    "    [0 5],\n",
    "    [5 11],\n",
    "    [2 12 15],\n",
    "    [2 8 12],\n",
    "    [8 12 16],\n",
    "    [6 12 13],\n",
    "    [0 5 6]\n",
    "];"
   ]
  },
  {
   "cell_type": "markdown",
   "metadata": {},
   "source": [
    "```gfanCones``` above records the cones as in the paper, but expressed as the indices of the rays from ```gfan```. By looking at the file ```FL_123_4_lex.trop```, one may readily verify that these are distinct representatives of the $\\mathfrak{S}_2 \\times \\mathfrak{S}_4$ orbits of the cones. "
   ]
  }
 ],
 "metadata": {
  "kernelspec": {
   "display_name": "Julia 1.7.1",
   "language": "julia",
   "name": "julia-1.7"
  },
  "language_info": {
   "file_extension": ".jl",
   "mimetype": "application/julia",
   "name": "julia",
   "version": "1.7.3"
  }
 },
 "nbformat": 4,
 "nbformat_minor": 4
}
