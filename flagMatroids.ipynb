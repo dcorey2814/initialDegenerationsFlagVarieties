{
 "cells": [
  {
   "cell_type": "markdown",
   "metadata": {},
   "source": [
    "## Generating Flag Matroids\n",
    "\n",
    "In this notebook, we determine all rank-$(1,2,3)$ flag matroids on $[4]$ up to $\\mathfrak{S}_2 \\times \\mathfrak{S}_4$-symmetry. For each flag matroid $\\vec{\\mathsf{Q}}$ whose polytope is full-dimensional, we also determine the matroids of its internal facets, i.e., facets that are not contained in the boundary of the 3-dimensional permutahedron. "
   ]
  },
  {
   "cell_type": "code",
   "execution_count": 1,
   "metadata": {},
   "outputs": [
    {
     "name": "stdout",
     "output_type": "stream",
     "text": [
      " -----    -----    -----      -      -----   \n",
      "|     |  |     |  |     |    | |    |     |  \n",
      "|     |  |        |         |   |   |     |  \n",
      "|     |   -----   |        |     |  |-----   \n",
      "|     |        |  |        |-----|  |   |    \n",
      "|     |  |     |  |     |  |     |  |    |   \n",
      " -----    -----    -----   -     -  -     -  \n",
      "\n",
      "...combining (and extending) ANTIC, GAP, Polymake and Singular\n",
      "Version\u001b[32m 0.10.0 \u001b[39m... \n",
      " ... which comes with absolutely no warranty whatsoever\n",
      "Type: '?Oscar' for more information\n",
      "(c) 2019-2022 by The Oscar Development Team\n"
     ]
    },
    {
     "data": {
      "text/plain": [
       "Polymake"
      ]
     },
     "execution_count": 1,
     "metadata": {},
     "output_type": "execute_result"
    }
   ],
   "source": [
    "using Oscar\n",
    "pm = Polymake"
   ]
  },
  {
   "cell_type": "markdown",
   "metadata": {},
   "source": [
    "### Generating all matroids on $[n]$ from a list of $\\mathfrak{S}_n$-orbit representatives\n",
    "\n",
    "**Function**: ```matroidsFromFile```\n",
    "\n",
    "*Input*: ```fname = String, n = Int64```\n",
    "\n",
    "*Output*: ```Dict{Int64,Vector{Any}}```\n",
    "\n",
    "*Description*: Reads a file containing the matroids on $[n]$ where each line records a matroid as a string of ```*``` (bases) and ```0``` (nonbases) ordered by revlex. This function outputs a dictionary where the keys are the possible ranks, and the value at a rank ```d``` is the list of ($\\mathfrak{S}_n$-orbit representatives of) $(d,n)$-matroids. \n",
    "\n",
    "---\n",
    "\n",
    "**Function**: ```matroidsBasesFromFile```\n",
    "\n",
    "*Input*: ```fname = String, n = Int64```\n",
    "\n",
    "*Output*: ```Dict{Int64,Vector{Any}}```\n",
    "\n",
    "*Description*: Reads a file containing the matroids on $[n]$ where each line records a matroid as a string of ```*``` (bases) and ```0``` (nonbases) ordered by revlex. This function outputs a dictionary where the keys are the possible ranks, and the value at a rank ```d``` is the list of the bases of ($\\mathfrak{S}_n$-orbit representatives of) $(d,n)$-matroids. \n",
    "\n",
    "---\n",
    "\n",
    "**Function**: ```permOnBases```\n",
    "\n",
    "*Input*: ```Bs = Vector{Set{Int64}}, sigma = Permutation```\n",
    "\n",
    "*Output*: ```Vector{Set{Int64}}```\n",
    "\n",
    "*Description*: ```Bs``` is a list of bases, and this function permutes the elements within each basis by ```sigma```.\n",
    "\n",
    "---\n",
    "\n",
    "**Function**: ```set2Array```\n",
    "\n",
    "*Input*: ```S = Set```\n",
    "\n",
    "*Output*: ```Vector```\n",
    "\n",
    "*Description*: Converts a set to a vector (elements in an arbitrary order)\n",
    "\n",
    "---\n",
    "\n",
    "**Function**: ```setBases2Matroid```\n",
    "\n",
    "*Input*: ```Bs = Set{Set{Int64}}, n = Int64```\n",
    "\n",
    "*Output*: ```Matroid```\n",
    "\n",
    "*Description*: Given a set of bases ```Bs``` and $n$, returns the matroid on $[n]$ with these bases. \n",
    "\n",
    "---\n",
    "\n",
    "**Function**: ```allMatroids```\n",
    "\n",
    "*Input*: ```reps = Dict{Int64,Vector{Any}}, n = Int64```\n",
    "\n",
    "*Output*: ```Dict{Int64,Any}```\n",
    "\n",
    "*Description*: This fuunction takes as input $\\mathfrak{S}_n$ orbit representatives of the matroids on $[n]$ as a dictionary like the output of ```matroidsBasesFromFile``` and returns all of the matroids on $[n]$ as a dictionary (keys = ranks, values=matroids of that rank).\n",
    "\n",
    "---\n",
    "\n",
    "\n",
    "\n"
   ]
  },
  {
   "cell_type": "code",
   "execution_count": 2,
   "metadata": {},
   "outputs": [
    {
     "data": {
      "text/plain": [
       "allMatroids (generic function with 1 method)"
      ]
     },
     "execution_count": 2,
     "metadata": {},
     "output_type": "execute_result"
    }
   ],
   "source": [
    "function matroidsFromFile(fname, n)\n",
    "    inf = open(fname);\n",
    "    ls = readlines(inf);\n",
    "    \n",
    "    n2 = Int64(floor(n//2))\n",
    "    \n",
    "    Mats = Dict{Int64,Vector{Any}}(d => [] for d ∈ 1:n-1)\n",
    "    \n",
    "    for d ∈ 1:n2\n",
    "        nCd = binomial(n,d)\n",
    "        for st ∈ ls\n",
    "            if length(st) == nCd\n",
    "                append!(Mats[d], [pm.matroid.bases_from_revlex_encoding(st, d, n)])\n",
    "                append!(Mats[n-d], [pm.matroid.bases_from_revlex_encoding(st, d, n, dual=true)])\n",
    "            end\n",
    "        end\n",
    "    end\n",
    "    \n",
    "    return Mats\n",
    "end\n",
    "\n",
    "function matroidsBasesFromFile(fname, n)\n",
    "    inf = open(fname);\n",
    "    ls = readlines(inf);\n",
    "    \n",
    "    n2 = Int64(floor(n//2))\n",
    "    \n",
    "    Mats = Dict{Int64,Vector{Any}}(d => [] for d ∈ 1:n-1)\n",
    "    \n",
    "    for d ∈ 1:n2\n",
    "        nCd = binomial(n,d)\n",
    "        for st ∈ ls\n",
    "            if length(st) == nCd                \n",
    "                Bd = Vector{Set{Int64}}(pm.matroid.bases_from_revlex_encoding(st, d, n))\n",
    "                Bnd = Vector{Set{Int64}}(pm.matroid.bases_from_revlex_encoding(st, d, n, dual=true))\n",
    "\n",
    "                append!(Mats[d], [pm.to_one_based_indexing(Bd)]  )\n",
    "                append!(Mats[n-d], [pm.to_one_based_indexing(Bnd)] )\n",
    "            end\n",
    "        end\n",
    "    end\n",
    "    \n",
    "    return Mats\n",
    "end\n",
    "\n",
    "\n",
    "function permOnBases(Bs, sigma)\n",
    "    return [on_sets(B, sigma) for B ∈ Bs] \n",
    "end\n",
    "\n",
    "function matroidOrbit(Bs, n)\n",
    "    orb = Set([])\n",
    "    Sn = symmetric_group(n)\n",
    "    SnElem = [sigma for sigma ∈ Sn]\n",
    "    for sigma ∈ SnElem\n",
    "        push!(orb, Set(permOnBases(Bs, sigma)))\n",
    "    end\n",
    "    return orb\n",
    "end\n",
    "\n",
    "function set2Array(S)\n",
    "    return [i for i ∈ S]\n",
    "end\n",
    "\n",
    "function setBases2Matroid(Bs,n)\n",
    "    BsVec = set2Array(Bs)\n",
    "    return pm.matroid.Matroid(BASES = pm.to_zero_based_indexing(BsVec), N_ELEMENTS = n)\n",
    "end\n",
    "\n",
    "\n",
    "function allMatroids(reps, n)\n",
    "    Ms = Dict{Int64,Any}(d => Set([]) for d ∈ 1:n-1)\n",
    "    for d ∈ 1:n-1\n",
    "        for M ∈ reps[d] \n",
    "            union!(Ms[d], matroidOrbit(M,n)) \n",
    "        end\n",
    "    end\n",
    "    return Ms\n",
    "end"
   ]
  },
  {
   "cell_type": "markdown",
   "metadata": {},
   "source": [
    "### Generating flag matroids\n",
    "\n",
    "**Function**: ```flatsMatroid```\n",
    "\n",
    "*Input*: ```M=Matroid```\n",
    "\n",
    "*Output*: ```Vector{Set{Int64}}```\n",
    "\n",
    "*Description*: Given a matroid $M$ returns a list of its flats. \n",
    "\n",
    "---\n",
    "\n",
    "**Function**: ```isQuotient```\n",
    "\n",
    "*Input*: ```M,N = Matroid```\n",
    "\n",
    "*Output*: ```true``` or ```false```\n",
    "\n",
    "*Description*: returns ```true``` if ```M``` is a quotient of ```N``` and ```false``` otherwise. \n",
    "\n",
    "---\n",
    "\n",
    "**Function**: ```flagMatroids```\n",
    "\n",
    "*Input*: ```matroidReps = Dict{Int64,Vector{Any}}, n = Int64```\n",
    "\n",
    "*Output*: ```Vector{Vector{Set{Set{Int64}}}}```\n",
    "\n",
    "*Description*: Returns a list of the complete flag matroids on $[n]$. Each flag matroid is a list of matroids, each matroid is recorded as a list of its bases. \n",
    "\n",
    "---\n",
    "\n",
    "**Function**: ```indicatorVector```\n",
    "\n",
    "*Input*: ```S=Set```\n",
    "\n",
    "*Output*: ```Vector{Int64}```\n",
    "\n",
    "*Description*: Returns the indicator vector of the set ```S```.\n",
    "\n",
    "---\n",
    "\n",
    "**Function**: ```unionSets```\n",
    "\n",
    "*Input*: ```Vector{Set{Int64}}```\n",
    "\n",
    "*Output*: ```Set{Int64}```\n",
    "\n",
    "*Description*: returns the union of a list of sets.\n",
    "\n",
    "---\n",
    "\n",
    "**Function**: ```flagBases2Flags```\n",
    "\n",
    "*Input*: ```Bs = Vector{Set{Set{Int64}}}```\n",
    "\n",
    "*Output*: ```Vector{Vector{Set{Int64}}}```\n",
    "\n",
    "*Description*: Given a flag matroid (as a list of list of bases) returns all flags of bases. \n",
    "\n",
    "---\n",
    "\n",
    "**Function**: ```flag2Permutation```\n",
    "\n",
    "*Input*: ```Vector{Set{Int64}}```\n",
    "\n",
    "*Output*: ```Vector{Int64}```\n",
    "\n",
    "*Description*: Given a complete flag of subsets, returns its corresponding permutation (as a vector $(\\sigma(1),\\ldots, \\sigma(n))$).\n",
    "\n",
    "---\n",
    "\n",
    "**Function**: ```flagBases2Permutations```\n",
    "\n",
    "*Input*: ```Bs = Vector{Set{Set{Int64}}}, n = Int64```\n",
    "\n",
    "*Output*: ```Set{Vector{Int64}}```\n",
    "\n",
    "*Description*: Given a flag matroid (as a list of list of bases) returns the permutations of all flags from ```Bs```. The convex hull of these points is the flag matroid polytope. \n",
    "\n",
    "---\n",
    "\n",
    "**Function**: ```dualFlagPermutations```\n",
    "\n",
    "*Input*: ```Ps = Set{Vector{Int64}}, n = Int64```\n",
    "\n",
    "*Output*: ```Set{Vector{Int64}}```\n",
    "\n",
    "*Description*: Given a collection of permutations, returns the collection of their duals. \n",
    "\n",
    "---\n",
    "\n",
    "**Function**: ```orbitFlagMatroidPolytope```\n",
    "\n",
    "*Input*: ```Ps = Set{Vector{Int64}}, n = Int64```\n",
    "\n",
    "*Output*: ```Set{Set{Vector{Int64}}}```\n",
    "\n",
    "*Description*: Given a flag matroid as a set of the vertices in its polytope, returns all such flag matroids in its $(\\mathfrak{S}_2 \\times \\mathfrak{S}_n)$-orbit.\n",
    "\n",
    "---\n",
    "\n",
    "**Function**: ```flagMatroidReps```\n",
    "\n",
    "*Input*: ```Vector{Set{Vector{Int64}}}```\n",
    "\n",
    "*Output*: ```Dict{Set{Vector{Int64}}, Set{Set{Vector{Int64}}}}```\n",
    "\n",
    "*Description*: Given a collection of flag matroids, returns a dictionary whose keys are particular $\\mathfrak{S}_2\\times \\mathfrak{S}_n$-orbit representatives of flag matroids, and the values are the corresponding $\\mathfrak{S}_2\\times \\mathfrak{S}_n$-orbits. \n",
    "\n",
    "---\n",
    "\n",
    "**Function**: ```vectors2Matrix```\n",
    "\n",
    "*Input*: ```S = Set{Vector{Int64}}```\n",
    "\n",
    "*Output*: ```Matrix{Int64}```\n",
    "\n",
    "*Description*: Given a set of vectors of the same length, returns a matrix whose rows are these vectors (arbitrary order). \n",
    "\n",
    "---\n",
    "\n",
    "**Function**: ```setPermutations2Polytope```\n",
    "\n",
    "*Input*: ```S = Set{Vector{Int64}}, n = Int64```\n",
    "\n",
    "*Output*: ```Polyhedron```\n",
    "\n",
    "*Description*: Given a set of vectors of the same length, returns their convex hull as a polyhedron. \n"
   ]
  },
  {
   "cell_type": "code",
   "execution_count": 3,
   "metadata": {},
   "outputs": [
    {
     "data": {
      "text/plain": [
       "sortedFlagMatroidBases (generic function with 1 method)"
      ]
     },
     "execution_count": 3,
     "metadata": {},
     "output_type": "execute_result"
    }
   ],
   "source": [
    "function flatsMatroid(M)\n",
    "    LatticeFlatsM = M.LATTICE_OF_FLATS\n",
    "    return Vector{Set{Int64}}(pm.@pm common.convert_to{Array{Set{Int}}}(LatticeFlatsM.FACES))\n",
    "end\n",
    "\n",
    "function isQuotient(M, N)\n",
    "    FlatsM = Set{Set{Int64}}(flatsMatroid(M))\n",
    "    FlatsN = Set{Set{Int64}}(flatsMatroid(N))\n",
    "    return issubset(FlatsM, FlatsN)\n",
    "end\n",
    "\n",
    "\n",
    "function flagMatroids(matroidReps, n)\n",
    "    Flags = Vector([[a] for a ∈ matroidReps[n-1]]);\n",
    "    newFlags = Vector{Vector{Set{Set{Int64}}}}([])\n",
    "    for i ∈ 2:n-1\n",
    "        d = n-i\n",
    "        for Bd ∈ matroidReps[d]\n",
    "            Md = pm.matroid.Matroid(BASES=pm.to_zero_based_indexing([a for a ∈ Bd]), N_ELEMENTS=n)\n",
    "            for Fd1 ∈ Flags\n",
    "                Bd1 = last(Fd1)\n",
    "                Md1 = pm.matroid.Matroid(BASES=pm.to_zero_based_indexing([a for a ∈ Bd1]), N_ELEMENTS=n)\n",
    "                if isQuotient(Md,Md1)\n",
    "                    push!(newFlags, push!(Fd1[:], Bd))\n",
    "                end\n",
    "            end\n",
    "        end\n",
    "        Flags = newFlags\n",
    "        newFlags =  Vector{Vector{Set{Set{Int64}}}}([])\n",
    "    end\n",
    "    return Flags\n",
    "end\n",
    "\n",
    "function indicatorVector(S,n)\n",
    "    v = Vector{Int64}([])\n",
    "    for i ∈ 1:n\n",
    "        if i ∈ S\n",
    "            push!(v,Int64(1))\n",
    "        end\n",
    "        if i ∉ S\n",
    "            push!(v,Int64(0))\n",
    "        end\n",
    "    end\n",
    "    return v\n",
    "end\n",
    "\n",
    "function unionSets(Ss)\n",
    "    n = length(Ss)\n",
    "    U = Set{Set{Int64}}([])\n",
    "    for i ∈ 1:n\n",
    "        union!(U,Ss[i])\n",
    "    end\n",
    "    return U\n",
    "end\n",
    "\n",
    "function flagBases2Flags(Bs)\n",
    "    n = length(Bs)\n",
    "    Flags = [[B] for B ∈ Bs[1]]\n",
    "    newFlags = Vector{Vector{Set{Int64}}}([])\n",
    "    for i ∈ 2:n\n",
    "        for B ∈ Bs[i]\n",
    "            for Fl ∈ Flags\n",
    "                if issubset(B,last(Fl)) \n",
    "                    push!(newFlags, push!(Fl[:], B))\n",
    "                end\n",
    "            end\n",
    "        end\n",
    "        Flags = newFlags\n",
    "        newFlags = Vector{Vector{Set{Int64}}}([])\n",
    "    end\n",
    "    return Flags\n",
    "end\n",
    "\n",
    "function flag2Permutation(Fl,n)\n",
    "    return sum(map((x) -> indicatorVector(x,n), Fl)) + [Int64(1) for i ∈ 1:n ]\n",
    "end\n",
    "\n",
    "function flagBases2Permutations(Bs, n)\n",
    "    Flags = flagBases2Flags(Bs)\n",
    "    return Set{Vector{Int64}}(map((x) -> flag2Permutation(x,n), Flags))\n",
    "end\n",
    "\n",
    "function dualFlagPermutations(Ps, n)\n",
    "    return Set([ (n+1)*[1 for i ∈ 1:n] - v for v ∈ Ps     ])\n",
    "end\n",
    "\n",
    "function orbitFlagMatroidPolytope(Ps, n)\n",
    "    Sn = symmetric_group(n); SnElm = [s for s ∈ Sn];\n",
    "    PsArr = set2Array(Ps)\n",
    "    Orb = Set{Set{Vector{Int64}}}([Set{Vector{Int64}}(Set(map((x) -> x[Vector(sigma)], PsArr))) for sigma ∈ SnElm])\n",
    "    Orb2 = Set{Set{Vector{Int64}}}( [dualFlagPermutations(p,n) for p ∈ Orb]  )\n",
    "    return union!(Orb,Orb2)\n",
    "end\n",
    "\n",
    "\n",
    "function flagMatroidReps(allPs, n)\n",
    "    reps = Dict{Set{Vector{Int64}}, Set{Set{Vector{Int64}}}}([])\n",
    "    for Ps ∈ allPs\n",
    "        Orb = orbitFlagMatroidPolytope(Ps, n)\n",
    "        if Orb ∉ values(reps)\n",
    "            reps[Ps] = Orb\n",
    "        end\n",
    "    end\n",
    "    return reps\n",
    "end\n",
    "\n",
    "function vectors2Matrix(S)\n",
    "    vs = [i for i ∈ v, v ∈ S]\n",
    "end\n",
    "    \n",
    "\n",
    "function setPermutations2Polytope(S,n)\n",
    "    vs = [v[i] for v ∈ S, i ∈ 1:n]; \n",
    "    return convex_hull(vs)\n",
    "end\n",
    "\n",
    "function sortedFlagMatroidBases(S)\n",
    "    return sort!([i for i in S], by = x->(length(x),x))\n",
    "end"
   ]
  },
  {
   "cell_type": "code",
   "execution_count": 4,
   "metadata": {},
   "outputs": [
    {
     "data": {
      "text/plain": [
       "invertPerm (generic function with 1 method)"
      ]
     },
     "execution_count": 4,
     "metadata": {},
     "output_type": "execute_result"
    }
   ],
   "source": [
    "function sortOrbit(Ps)\n",
    "    return sort(map((x) -> sort(set2Array(x), rev=true), set2Array(Ps)), rev=true)    \n",
    "end\n",
    "\n",
    "function sortedReps(PsDict, n)\n",
    "    orbits = set2Array(values(PsDict)); \n",
    "    newOrbits = [ [ [v[i] for v in P, i in 1:n] for P in sortOrbit(orb)] for  orb in orbits]\n",
    "    return Dict{Matrix{Int64}, Vector{Matrix{Int64}}}(orb[1] => orb for orb ∈ newOrbits)\n",
    "end\n",
    "\n",
    "function permutahedron(n)\n",
    "    return orbit_polytope(1:n, symmetric_group(n))\n",
    "end\n",
    "\n",
    "function facetsSubPermutahedron(Pi, n)\n",
    "    #Pi = permutahedron(n) \n",
    "    vertsPi = Matrix{Int64}(Pi.pm_polytope.VERTICES)[:,2:n+1]\n",
    "    nvertsPi = size(vertsPi)[1]\n",
    "    facetsIndicesBool = Matrix{Int64}(Pi.pm_polytope.VERTICES_IN_FACETS)\n",
    "    \n",
    "    fIBrows, fINcols = size(facetsIndicesBool); \n",
    "    return  [Set([vertsPi[i,:] for i in 1:nvertsPi if facetsIndicesBool[j,i]==1 ]) for j in 1:fIBrows]\n",
    "end\n",
    "\n",
    "function isInternalFacet(F,n)\n",
    "    externalFacets = facetsSubPermutahedron(permutahedron(n), n)\n",
    "    if any(map((x) -> issubset(F,x), externalFacets ) )\n",
    "        return false\n",
    "    else\n",
    "        return true\n",
    "    end\n",
    "end\n",
    "\n",
    "function internalFacetsSubPermutahedron(Pi, n)\n",
    "    facetsPi = facetsSubPermutahedron(Pi, n)\n",
    "    internalFacetsSets = [F for F in facetsPi if isInternalFacet(F,n)]\n",
    "    return [[v[i] for v in F, i in 1:n ] for F in internalFacetsSets]\n",
    "end\n",
    "\n",
    "\n",
    "function permutation2Flag(p)\n",
    "    n=length(p)\n",
    "    irp = reverse(invertPerm(p))\n",
    "    return [ sort([irp[i] for i in 1:d]) for d in 1:(n-1)]\n",
    "end\n",
    "\n",
    "\n",
    "function vertices2Bases(vs, n)\n",
    "    Bs = Set([])\n",
    "    nrows,ncols = size(vs)\n",
    "    \n",
    "    for i in 1:nrows\n",
    "        union!(Bs, permutation2Flag(vs[i,:]))\n",
    "    end\n",
    "    return Bs    \n",
    "end\n",
    "\n",
    "function invertPerm(p)\n",
    "    n=length(p)\n",
    "    pd = Dict{Int64,Int64}(i=>p[i] for i in 1:n)\n",
    "    pdinv = Dict{Int64,Int64}(value=>key for (key,value) in pd)\n",
    "    [pdinv[i] for i in 1:n]\n",
    "end\n"
   ]
  },
  {
   "cell_type": "markdown",
   "metadata": {},
   "source": [
    "```n4 = Dict{Int64, Vector{Any}}``` records all matroids on $[4]$, up to symmetry. \n",
    "\n",
    "```alln4 = Dict{Int64, Any}``` records all matroids on $[4]$.\n",
    "\n",
    "```fl4 = Vector{Vector{Set{Set{Int64}}}}``` records all flag matroids on $[4]$.\n",
    "\n",
    "```allPolytopes4 = Vector{Set{Vector{Int64}}}``` records all flag matroids, but recorded as the vertices of their polytopes.\n",
    "\n",
    "```repsDict4 = Dict{Set{Vector{Int64}}, Set{Set{Vector{Int64}}}}``` records the flag matroids on $[4]$ up to $\\mathfrak{S}_2 \\times \\mathfrak{S}_4$ symmetry. The keys are the representatives, and the values are the flags in the orbit. \n",
    "\n",
    "```Dim3 = Vector{Matrix{Int64}}``` records the flag matroids on $[4]$ whose polytope has dimension 3, up to $\\mathfrak{S}_2 \\times \\mathfrak{S}_4$ symmetry. "
   ]
  },
  {
   "cell_type": "code",
   "execution_count": 5,
   "metadata": {},
   "outputs": [],
   "source": [
    "n4 = matroidsBasesFromFile(\"matroidDatabase/n4.txt\",4);\n",
    "alln4 = allMatroids(n4, 4);\n",
    "fl4 = flagMatroids(alln4,4);\n",
    "allPolytopes4 = map((x) -> flagBases2Permutations(x,4), fl4);\n",
    "repsDict4 = flagMatroidReps(allPolytopes4,4);"
   ]
  },
  {
   "cell_type": "code",
   "execution_count": 16,
   "metadata": {},
   "outputs": [],
   "source": [
    "sortedRepsDict4 = sortedReps(repsDict4, 4);\n",
    "sortedReps4 = keys(sortedRepsDict4);\n",
    "Dims3 = [P for P in sortedReps4 if dim(convex_hull(P)) == 3];"
   ]
  },
  {
   "cell_type": "markdown",
   "metadata": {},
   "source": [
    "### (polytopes of) rank $(1,2,3)$-flag matroids on $[4]$ and their internal facets \n",
    "\n",
    "In the following cells, we record each flag matroid whose polytope is 3-dimensional, as a list of the bases of its constitutients. We also record the flag matroids of each facet not contained in the boundary of the 3-dimensional permutahedron. "
   ]
  },
  {
   "cell_type": "code",
   "execution_count": 8,
   "metadata": {},
   "outputs": [
    {
     "name": "stdout",
     "output_type": "stream",
     "text": [
      "Bases M1 = [[1], [3], [1, 2], [1, 4], [2, 3], [3, 4], [1, 2, 3], [1, 2, 4], [1, 3, 4], [2, 3, 4]]\n",
      "Bases Facet 1 = [[1], [3], [1, 2], [1, 4], [2, 3], [3, 4], [1, 2, 3], [1, 3, 4]]\n",
      "Bases Facet 2 = [[1], [3], [1, 2], [2, 3], [1, 2, 3], [1, 2, 4], [2, 3, 4]]\n",
      "Bases Facet 3 = [[1], [3], [1, 4], [3, 4], [1, 2, 4], [1, 3, 4], [2, 3, 4]]\n",
      "Bases Facet 4 = [[1], [3], [1, 2], [1, 4], [2, 3], [3, 4], [1, 2, 4], [2, 3, 4]]\n"
     ]
    }
   ],
   "source": [
    "M1 = sortedRepsDict4[Dims3[5]][2]\n",
    "FacetsM1 = internalFacetsSubPermutahedron(convex_hull(M1), 4)\n",
    "print(\"Bases M1 = \" * string(sortedFlagMatroidBases(vertices2Bases(M1, 4))) * \"\\n\")\n",
    "for i in 1:length(FacetsM1)\n",
    "    print(string(\"Bases Facet \", i, \" = \" , sortedFlagMatroidBases(vertices2Bases(FacetsM1[i], 4)),\"\\n\"))\n",
    "end"
   ]
  },
  {
   "cell_type": "code",
   "execution_count": 8,
   "metadata": {},
   "outputs": [
    {
     "name": "stdout",
     "output_type": "stream",
     "text": [
      "Bases M2 = [[1], [2], [1, 2], [1, 3], [1, 4], [2, 3], [2, 4], [1, 2, 3], [1, 3, 4], [2, 3, 4]]\n",
      "Bases Facet 1 = [[1], [2], [1, 2], [1, 4], [2, 4], [1, 2, 3], [1, 3, 4], [2, 3, 4]]\n",
      "Bases Facet 2 = [[1], [2], [1, 3], [1, 4], [2, 3], [2, 4], [1, 3, 4], [2, 3, 4]]\n",
      "Bases Facet 3 = [[1], [2], [1, 3], [2, 3], [1, 2, 3], [1, 3, 4], [2, 3, 4]]\n"
     ]
    }
   ],
   "source": [
    "M2 = sortedRepsDict4[Dims3[9]][5]\n",
    "FacetsM2 = internalFacetsSubPermutahedron(convex_hull(M2), 4)\n",
    "print(\"Bases M2 = \" * string(sortedFlagMatroidBases(vertices2Bases(M2, 4))) * \"\\n\")\n",
    "for i in 1:length(FacetsM2)\n",
    "    print(string(\"Bases Facet \", i, \" = \" , sortedFlagMatroidBases(vertices2Bases(FacetsM2[i], 4)),\"\\n\"))\n",
    "end"
   ]
  },
  {
   "cell_type": "code",
   "execution_count": 9,
   "metadata": {},
   "outputs": [
    {
     "name": "stdout",
     "output_type": "stream",
     "text": [
      "Bases M3 = [[1], [2], [1, 2], [1, 4], [2, 4], [1, 2, 3], [1, 2, 4], [1, 3, 4], [2, 3, 4]]\n",
      "Bases Facet 1 = [[1], [2], [1, 2], [1, 4], [2, 4], [1, 2, 3], [1, 3, 4], [2, 3, 4]]\n",
      "Bases Facet 2 = [[1], [2], [1, 4], [2, 4], [1, 2, 4], [1, 3, 4], [2, 3, 4]]\n"
     ]
    }
   ],
   "source": [
    "M3 = sortedRepsDict4[Dims3[4]][4]\n",
    "FacetsM3 = internalFacetsSubPermutahedron(convex_hull(M3), 4)\n",
    "print(\"Bases M3 = \" * string(sortedFlagMatroidBases(vertices2Bases(M3, 4))) * \"\\n\")\n",
    "for i in 1:length(FacetsM3)\n",
    "    print(string(\"Bases Facet \", i, \" = \" , sortedFlagMatroidBases(vertices2Bases(FacetsM3[i], 4)),\"\\n\"))    \n",
    "end"
   ]
  },
  {
   "cell_type": "code",
   "execution_count": 10,
   "metadata": {},
   "outputs": [
    {
     "name": "stdout",
     "output_type": "stream",
     "text": [
      "Bases M4 = [[1], [2], [4], [1, 2], [2, 4], [1, 2, 3], [1, 2, 4], [2, 3, 4]]\n",
      "Bases Facet 1 = [[1], [2], [4], [1, 2], [2, 4], [1, 2, 3], [2, 3, 4]]\n",
      "Bases Facet 2 = [[1], [4], [1, 2], [2, 4], [1, 2, 3], [1, 2, 4], [2, 3, 4]]\n"
     ]
    }
   ],
   "source": [
    "M4 = sortedRepsDict4[Dims3[6]][4]\n",
    "FacetsM4 = internalFacetsSubPermutahedron(convex_hull(M4), 4)\n",
    "print(\"Bases M4 = \" * string(sortedFlagMatroidBases(vertices2Bases(M4, 4))) * \"\\n\")\n",
    "for i in 1:length(FacetsM4)\n",
    "    print(string(\"Bases Facet \", i, \" = \" , sortedFlagMatroidBases(vertices2Bases(FacetsM4[i], 4)),\"\\n\"))\n",
    "end"
   ]
  },
  {
   "cell_type": "code",
   "execution_count": 10,
   "metadata": {},
   "outputs": [
    {
     "name": "stdout",
     "output_type": "stream",
     "text": [
      "Bases M5 = [[1], [3], [1, 2], [1, 3], [1, 4], [2, 3], [3, 4], [1, 2, 3], [1, 3, 4]]\n",
      "Bases Facet 1 = [[1], [3], [1, 2], [1, 4], [2, 3], [3, 4], [1, 2, 3], [1, 3, 4]]\n",
      "Bases Facet 1 = [[1], [3], [1, 2], [1, 4], [2, 3], [3, 4], [1, 2, 3], [1, 3, 4]]\n"
     ]
    }
   ],
   "source": [
    "M5 = sortedRepsDict4[Dims3[7]][2]\n",
    "FacetsM5 = internalFacetsSubPermutahedron(convex_hull(M5), 4)\n",
    "print(\"Bases M5 = \" * string(sortedFlagMatroidBases(vertices2Bases(M5, 4))) * \"\\n\")\n",
    "for i in 1:length(FacetsM5)\n",
    "    print(string(\"Bases Facet \", i, \" = \" , sortedFlagMatroidBases(vertices2Bases(FacetsM5[i], 4)),\"\\n\"))\n",
    "end"
   ]
  },
  {
   "cell_type": "code",
   "execution_count": 12,
   "metadata": {},
   "outputs": [
    {
     "name": "stdout",
     "output_type": "stream",
     "text": [
      "Bases M6 = [[1], [3], [4], [1, 2], [1, 4], [2, 3], [2, 4], [3, 4], [1, 2, 3], [1, 3, 4], [2, 3, 4]]\n",
      "Bases Facet 1 = [[1], [3], [4], [1, 2], [2, 3], [2, 4], [1, 2, 3], [2, 3, 4]]\n",
      "Bases Facet 2 = [[1], [4], [1, 2], [1, 4], [2, 4], [1, 2, 3], [1, 3, 4], [2, 3, 4]]\n",
      "Bases Facet 3 = [[1], [3], [1, 2], [1, 4], [2, 3], [3, 4], [1, 2, 3], [1, 3, 4]]\n"
     ]
    }
   ],
   "source": [
    "M6 = sortedRepsDict4[Dims3[10]][10]\n",
    "FacetsM6 = internalFacetsSubPermutahedron(convex_hull(M6), 4)\n",
    "print(\"Bases M6 = \" * string(sortedFlagMatroidBases(vertices2Bases(M6, 4))) * \"\\n\")\n",
    "for i in 1:length(FacetsM6)\n",
    "    print(string(\"Bases Facet \", i, \" = \" , sortedFlagMatroidBases(vertices2Bases(FacetsM6[i], 4)),\"\\n\"))\n",
    "end"
   ]
  },
  {
   "cell_type": "code",
   "execution_count": 13,
   "metadata": {},
   "outputs": [
    {
     "name": "stdout",
     "output_type": "stream",
     "text": [
      "Bases M7 = [[1], [4], [1, 2], [1, 3], [1, 4], [2, 4], [3, 4], [1, 2, 3], [1, 2, 4], [1, 3, 4], [2, 3, 4]]\n",
      "Bases Facet 1 = [[1], [4], [1, 2], [1, 3], [2, 4], [3, 4], [1, 2, 3], [2, 3, 4]]\n",
      "Bases Facet 2 = [[1], [4], [1, 2], [2, 4], [1, 2, 3], [1, 2, 4], [2, 3, 4]]\n",
      "Bases Facet 3 = [[1], [4], [1, 3], [3, 4], [1, 2, 3], [1, 3, 4], [2, 3, 4]]\n"
     ]
    }
   ],
   "source": [
    "M7 = sortedRepsDict4[Dims3[2]][3]\n",
    "FacetsM7 = internalFacetsSubPermutahedron(convex_hull(M7), 4)\n",
    "print(\"Bases M7 = \" *string(sortedFlagMatroidBases(vertices2Bases(M7, 4))) * \"\\n\")\n",
    "for i in 1:length(FacetsM7)\n",
    "    print(string(\"Bases Facet \", i, \" = \" , sortedFlagMatroidBases(vertices2Bases(FacetsM7[i], 4)),\"\\n\"))\n",
    "end"
   ]
  },
  {
   "cell_type": "code",
   "execution_count": 14,
   "metadata": {},
   "outputs": [
    {
     "name": "stdout",
     "output_type": "stream",
     "text": [
      "Bases M8 = [[1], [2], [4], [1, 2], [1, 4], [2, 4], [1, 2, 3], [1, 2, 4], [1, 3, 4], [2, 3, 4]]\n",
      "Bases Facet 1 = [[1], [2], [4], [1, 2], [1, 4], [2, 4], [1, 2, 3], [1, 3, 4], [2, 3, 4]]\n"
     ]
    }
   ],
   "source": [
    "M8 = sortedRepsDict4[Dims3[8]][3]\n",
    "FacetsM8 = internalFacetsSubPermutahedron(convex_hull(M8), 4)\n",
    "print(\"Bases M8 = \" * string(sortedFlagMatroidBases(vertices2Bases(M8, 4))) * \"\\n\")\n",
    "for i in 1:length(FacetsM8)\n",
    "    print(string(\"Bases Facet \", i, \" = \" , sortedFlagMatroidBases(vertices2Bases(FacetsM8[i], 4)),\"\\n\"))\n",
    "end"
   ]
  },
  {
   "cell_type": "code",
   "execution_count": 15,
   "metadata": {},
   "outputs": [
    {
     "name": "stdout",
     "output_type": "stream",
     "text": [
      "Bases M9 = [[1], [2], [4], [1, 2], [1, 3], [1, 4], [2, 3], [2, 4], [3, 4], [1, 2, 3], [1, 3, 4], [2, 3, 4]]\n",
      "Bases Facet 1 = [[1], [2], [4], [1, 2], [1, 4], [2, 4], [1, 2, 3], [1, 3, 4], [2, 3, 4]]\n",
      "Bases Facet 2 = [[1], [2], [4], [1, 3], [2, 3], [3, 4], [1, 2, 3], [1, 3, 4], [2, 3, 4]]\n"
     ]
    }
   ],
   "source": [
    "M9 = sortedRepsDict4[Dims3[1]][2]\n",
    "FacetsM9 = internalFacetsSubPermutahedron(convex_hull(M9), 4)\n",
    "print(\"Bases M9 = \"); print(sortedFlagMatroidBases(vertices2Bases(M9, 4))); print(\"\\n\")\n",
    "for i in 1:length(FacetsM9)\n",
    "    print(string(\"Bases Facet \", i, \" = \" , sortedFlagMatroidBases(vertices2Bases(FacetsM9[i], 4)),\"\\n\"))\n",
    "end"
   ]
  },
  {
   "cell_type": "code",
   "execution_count": 16,
   "metadata": {},
   "outputs": [
    {
     "name": "stdout",
     "output_type": "stream",
     "text": [
      "Bases M10 = [[1], [3], [4], [1, 2], [1, 3], [1, 4], [2, 3], [2, 4], [3, 4], [1, 2, 3], [1, 3, 4], [2, 3, 4]]\n",
      "Bases Facet 1 = [[1], [3], [4], [1, 2], [2, 3], [2, 4], [1, 2, 3], [2, 3, 4]]\n",
      "Bases Facet 2 = [[1], [4], [1, 2], [1, 4], [2, 4], [1, 2, 3], [1, 3, 4], [2, 3, 4]]\n"
     ]
    }
   ],
   "source": [
    "M10 = sortedRepsDict4[Dims3[15]][7]\n",
    "FacetsM10 = internalFacetsSubPermutahedron(convex_hull(M10), 4)\n",
    "print(\"Bases M10 = \" * string(sortedFlagMatroidBases(vertices2Bases(M10, 4))) * \"\\n\")\n",
    "for i in 1:length(FacetsM10)\n",
    "    print(string(\"Bases Facet \", i, \" = \" , sortedFlagMatroidBases(vertices2Bases(FacetsM10[i], 4)),\"\\n\"))\n",
    "end"
   ]
  },
  {
   "cell_type": "code",
   "execution_count": 17,
   "metadata": {},
   "outputs": [
    {
     "name": "stdout",
     "output_type": "stream",
     "text": [
      "Bases M11 = [[1], [3], [4], [1, 2], [1, 4], [2, 3], [2, 4], [3, 4], [1, 2, 3], [1, 2, 4], [1, 3, 4], [2, 3, 4]]\n",
      "Bases Facet 1 = [[1], [3], [4], [1, 2], [2, 3], [2, 4], [1, 2, 3], [1, 2, 4], [2, 3, 4]]\n",
      "Bases Facet 2 = [[1], [3], [1, 2], [1, 4], [2, 3], [3, 4], [1, 2, 3], [1, 3, 4]]\n"
     ]
    }
   ],
   "source": [
    "M11 = sortedRepsDict4[Dims3[12]][11]\n",
    "FacetsM11 = internalFacetsSubPermutahedron(convex_hull(M11), 4)\n",
    "print(\"Bases M11 = \" * string(sortedFlagMatroidBases(vertices2Bases(M11, 4))) * \"\\n\")\n",
    "for i in 1:length(FacetsM11)\n",
    "    print(string(\"Bases Facet \", i, \" = \" , sortedFlagMatroidBases(vertices2Bases(FacetsM11[i], 4)),\"\\n\"))\n",
    "end"
   ]
  },
  {
   "cell_type": "code",
   "execution_count": 24,
   "metadata": {},
   "outputs": [
    {
     "name": "stdout",
     "output_type": "stream",
     "text": [
      "Bases M12 = [[1], [2], [3], [4], [1, 2], [1, 4], [2, 3], [3, 4], [1, 2, 3], [1, 2, 4], [1, 3, 4], [2, 3, 4]]\n",
      "Bases Facet 1 = [[1], [3], [1, 2], [1, 4], [2, 3], [3, 4], [1, 2, 3], [1, 3, 4]]\n",
      "Bases Facet 2 = [[2], [4], [1, 2], [1, 4], [2, 3], [3, 4], [1, 2, 4], [2, 3, 4]]\n"
     ]
    }
   ],
   "source": [
    "M12 = sortedRepsDict4[Dims3[13]][2]\n",
    "FacetsM12 = internalFacetsSubPermutahedron(convex_hull(M12), 4)\n",
    "print(\"Bases M12 = \" * string(sortedFlagMatroidBases(vertices2Bases(M12, 4))) * \"\\n\")\n",
    "for i in 1:length(FacetsM12)\n",
    "    print(string(\"Bases Facet \", i, \" = \" , sortedFlagMatroidBases(vertices2Bases(FacetsM12[i], 4)),\"\\n\"))\n",
    "end"
   ]
  },
  {
   "cell_type": "code",
   "execution_count": 19,
   "metadata": {},
   "outputs": [
    {
     "name": "stdout",
     "output_type": "stream",
     "text": [
      "Bases M13 = [[1], [3], [4], [1, 2], [1, 3], [1, 4], [2, 3], [2, 4], [3, 4], [1, 2, 3], [1, 2, 4], [1, 3, 4], [2, 3, 4]]\n",
      "Bases Facet 1 = [[1], [3], [4], [1, 2], [2, 3], [2, 4], [1, 2, 3], [1, 2, 4], [2, 3, 4]]\n"
     ]
    }
   ],
   "source": [
    "M13 = sortedRepsDict4[Dims3[11]][4]\n",
    "FacetsM13 = internalFacetsSubPermutahedron(convex_hull(M13), 4)\n",
    "print(\"Bases M13 = \" * string(sortedFlagMatroidBases(vertices2Bases(M13, 4))) * \"\\n\")\n",
    "for i in 1:length(FacetsM13)\n",
    "    print(string(\"Bases Facet \", i, \" = \" , sortedFlagMatroidBases(vertices2Bases(FacetsM13[i], 4)),\"\\n\"))\n",
    "end"
   ]
  },
  {
   "cell_type": "code",
   "execution_count": 20,
   "metadata": {},
   "outputs": [
    {
     "name": "stdout",
     "output_type": "stream",
     "text": [
      "Bases M14 = [[1], [2], [3], [4], [1, 2], [1, 4], [2, 3], [2, 4], [3, 4], [1, 2, 3], [1, 2, 4], [1, 3, 4], [2, 3, 4]]\n",
      "Bases Facet 1 = [[1], [3], [1, 2], [1, 4], [2, 3], [3, 4], [1, 2, 3], [1, 3, 4]]\n"
     ]
    }
   ],
   "source": [
    "M14 = sortedRepsDict4[Dims3[14]][5]\n",
    "FacetsM14 = internalFacetsSubPermutahedron(convex_hull(M14), 4)\n",
    "print(\"Bases M14 = \" * string(sortedFlagMatroidBases(vertices2Bases(M14, 4))) * \"\\n\")\n",
    "for i in 1:length(FacetsM14)\n",
    "    print(string(\"Bases Facet \", i, \" = \" , sortedFlagMatroidBases(vertices2Bases(FacetsM14[i], 4)),\"\\n\"))\n",
    "end"
   ]
  },
  {
   "cell_type": "code",
   "execution_count": 21,
   "metadata": {},
   "outputs": [
    {
     "name": "stdout",
     "output_type": "stream",
     "text": [
      "Bases M15 = [[1], [2], [3], [4], [1, 2], [1, 3], [1, 4], [2, 3], [2, 4], [3, 4], [1, 2, 3], [1, 2, 4], [1, 3, 4], [2, 3, 4]]\n"
     ]
    }
   ],
   "source": [
    "M15 = sortedRepsDict4[Dims3[3]][1]\n",
    "FacetsM15 = internalFacetsSubPermutahedron(convex_hull(M15), 4)\n",
    "print(\"Bases M15 = \" * string(sortedFlagMatroidBases(vertices2Bases(M15, 4))) * \"\\n\")\n",
    "for i in 1:length(FacetsM15)\n",
    "    print(string(\"Bases Facet \", i, \" = \" , sortedFlagMatroidBases(vertices2Bases(FacetsM15[i], 4)),\"\\n\"))\n",
    "end"
   ]
  }
 ],
 "metadata": {
  "kernelspec": {
   "display_name": "Julia 1.7.1",
   "language": "julia",
   "name": "julia-1.7"
  },
  "language_info": {
   "file_extension": ".jl",
   "mimetype": "application/julia",
   "name": "julia",
   "version": "1.7.3"
  }
 },
 "nbformat": 4,
 "nbformat_minor": 4
}
